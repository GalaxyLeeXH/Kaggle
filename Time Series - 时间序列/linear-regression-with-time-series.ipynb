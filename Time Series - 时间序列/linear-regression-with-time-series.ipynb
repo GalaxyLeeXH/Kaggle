{
 "cells": [
  {
   "cell_type": "markdown",
   "id": "a56a0c68",
   "metadata": {
    "papermill": {
     "duration": 0.012417,
     "end_time": "2023-12-05T09:23:38.790306",
     "exception": false,
     "start_time": "2023-12-05T09:23:38.777889",
     "status": "completed"
    },
    "tags": []
   },
   "source": [
    "# Welcome to Time Series! #\n",
    "\n",
    "**Forecasting** is perhaps the most common application of machine learning in the real world. Businesses forecast product demand, governments forecast economic and population growth, meteorologists forecast the weather. The understanding of things to come is a pressing need across science, government, and industry (not to mention our personal lives!), and practitioners in these fields are increasingly applying machine learning to address this need.\n",
    "\n",
    "Time series forecasting is a broad field with a long history. This course focuses on the application of modern machine learning methods to time series data with the goal of producing the most accurate predictions. The lessons in this course were inspired by winning solutions from past Kaggle forecasting competitions but will be applicable whenever accurate forecasts are a priority.\n",
    "\n",
    "After finishing this course, you'll know how to:\n",
    "- engineer features to model the major time series components (*trends*, *seasons*, and *cycles*),\n",
    "- visualize time series with many kinds of *time series plots*,\n",
    "- create forecasting *hybrids* that combine the strengths of complementary models, and\n",
    "- adapt machine learning methods to a variety of forecasting tasks.\n",
    "\n",
    "As part of the exercises, you'll get a chance to participate in our [Store Sales - Time Series Forecasting](https://www.kaggle.com/c/29781) Getting Started competition. In this competition, you're tasked with forecasting sales for *Corporación Favorita* (a large Ecuadorian-based grocery retailer) in almost 1800 product categories.\n",
    "\n",
    "# What is a Time Series? #\n",
    "\n",
    "The basic object of forecasting is the **time series**, which is a set of observations recorded over time. In forecasting applications, the observations are typically recorded with a regular frequency, like daily or monthly."
   ]
  },
  {
   "cell_type": "code",
   "execution_count": 1,
   "id": "97128ca1",
   "metadata": {
    "execution": {
     "iopub.execute_input": "2023-12-05T09:23:38.816109Z",
     "iopub.status.busy": "2023-12-05T09:23:38.815686Z",
     "iopub.status.idle": "2023-12-05T09:23:38.831218Z",
     "shell.execute_reply": "2023-12-05T09:23:38.829890Z"
    },
    "papermill": {
     "duration": 0.031354,
     "end_time": "2023-12-05T09:23:38.833721",
     "exception": false,
     "start_time": "2023-12-05T09:23:38.802367",
     "status": "completed"
    },
    "tags": []
   },
   "outputs": [
    {
     "data": {
      "text/plain": [
       "'\\n    1、本案例中使用lag1，也就是偏移一个单位，说白了就是今天的销售额取决于昨天的销售额，因此是简单的\\n    线性关系，通过后续的图示可以看出时线性增长的，原因就在这，训练出一个正的权重来就是单调递增\\n    \\n    2、如果说变成长时间依赖或者数据之间的关系是复杂的非线性，那么线性模型就失效了，此时应该考虑其他的\\n    更加复杂的机器学习方法\\n\\n    3、 lag1表示前后一天的数据，lag7则表示一个星期以前的数据，lag365则表示一年前的数据，处理周期\\n    型数据可能就不适用了，这个时候就考虑第二节 - trend\\n'"
      ]
     },
     "execution_count": 1,
     "metadata": {},
     "output_type": "execute_result"
    }
   ],
   "source": [
    "'''\n",
    "    1、本案例中使用lag1，也就是偏移一个单位，说白了就是今天的销售额取决于昨天的销售额，因此是简单的\n",
    "    线性关系，通过后续的图示可以看出时线性增长的，原因就在这，训练出一个正的权重来就是单调递增\n",
    "    \n",
    "    2、如果说变成长时间依赖或者数据之间的关系是复杂的非线性，那么线性模型就失效了，此时应该考虑其他的\n",
    "    更加复杂的机器学习方法\n",
    "\n",
    "    3、 lag1表示前后一天的数据，lag7则表示一个星期以前的数据，lag365则表示一年前的数据，处理周期\n",
    "    型数据可能就不适用了，这个时候就考虑第二节 - trend\n",
    "'''"
   ]
  },
  {
   "cell_type": "code",
   "execution_count": 2,
   "id": "57d2ca62",
   "metadata": {
    "_kg_hide-input": true,
    "execution": {
     "iopub.execute_input": "2023-12-05T09:23:38.861322Z",
     "iopub.status.busy": "2023-12-05T09:23:38.860862Z",
     "iopub.status.idle": "2023-12-05T09:23:39.353387Z",
     "shell.execute_reply": "2023-12-05T09:23:39.352148Z"
    },
    "papermill": {
     "duration": 0.509767,
     "end_time": "2023-12-05T09:23:39.355955",
     "exception": false,
     "start_time": "2023-12-05T09:23:38.846188",
     "status": "completed"
    },
    "tags": []
   },
   "outputs": [
    {
     "data": {
      "text/html": [
       "<div>\n",
       "<style scoped>\n",
       "    .dataframe tbody tr th:only-of-type {\n",
       "        vertical-align: middle;\n",
       "    }\n",
       "\n",
       "    .dataframe tbody tr th {\n",
       "        vertical-align: top;\n",
       "    }\n",
       "\n",
       "    .dataframe thead th {\n",
       "        text-align: right;\n",
       "    }\n",
       "</style>\n",
       "<table border=\"1\" class=\"dataframe\">\n",
       "  <thead>\n",
       "    <tr style=\"text-align: right;\">\n",
       "      <th></th>\n",
       "      <th>Hardcover</th>\n",
       "    </tr>\n",
       "    <tr>\n",
       "      <th>Date</th>\n",
       "      <th></th>\n",
       "    </tr>\n",
       "  </thead>\n",
       "  <tbody>\n",
       "    <tr>\n",
       "      <th>2000-04-01</th>\n",
       "      <td>139</td>\n",
       "    </tr>\n",
       "    <tr>\n",
       "      <th>2000-04-02</th>\n",
       "      <td>128</td>\n",
       "    </tr>\n",
       "    <tr>\n",
       "      <th>2000-04-03</th>\n",
       "      <td>172</td>\n",
       "    </tr>\n",
       "    <tr>\n",
       "      <th>2000-04-04</th>\n",
       "      <td>139</td>\n",
       "    </tr>\n",
       "    <tr>\n",
       "      <th>2000-04-05</th>\n",
       "      <td>191</td>\n",
       "    </tr>\n",
       "  </tbody>\n",
       "</table>\n",
       "</div>"
      ],
      "text/plain": [
       "            Hardcover\n",
       "Date                 \n",
       "2000-04-01        139\n",
       "2000-04-02        128\n",
       "2000-04-03        172\n",
       "2000-04-04        139\n",
       "2000-04-05        191"
      ]
     },
     "execution_count": 2,
     "metadata": {},
     "output_type": "execute_result"
    }
   ],
   "source": [
    "\n",
    "import pandas as pd\n",
    "\n",
    "df = pd.read_csv(\n",
    "    \"../input/ts-course-data/book_sales.csv\",\n",
    "    # 指定Date为索引列，用来标识每行数据\n",
    "    index_col='Date',\n",
    "    # 将Date这一列数据转换成为date的格式\n",
    "    parse_dates=['Date'],\n",
    ").drop('Paperback', axis=1)\n",
    "\n",
    "df.head()"
   ]
  },
  {
   "cell_type": "markdown",
   "id": "28fdb380",
   "metadata": {
    "papermill": {
     "duration": 0.013159,
     "end_time": "2023-12-05T09:23:39.381958",
     "exception": false,
     "start_time": "2023-12-05T09:23:39.368799",
     "status": "completed"
    },
    "tags": []
   },
   "source": [
    "This series records the number of hardcover book sales at a retail store over 30 days. Notice that we have a single column of observations `Hardcover` with a time index `Date`.\n",
    "\n",
    "# Linear Regression with Time Series #\n",
    "\n",
    "For the first part of this course, we'll use the linear regression algorithm to construct forecasting models. Linear regression is widely used in practice and adapts naturally to even complex forecasting tasks.\n",
    "\n",
    "The **linear regression** algorithm learns how to make a weighted sum from its input features. For two features, we would have:\n",
    "\n",
    "```\n",
    "target = weight_1 * feature_1 + weight_2 * feature_2 + bias\n",
    "```\n",
    "\n",
    "During training, the regression algorithm learns values for the parameters `weight_1`, `weight_2`, and `bias` that best fit the `target`. (This algorithm is often called *ordinary least squares* since it chooses values that minimize the squared error between the target and the predictions.) The weights are also called *regression coefficients* and the `bias` is also called the *intercept* because it tells you where the graph of this function crosses the y-axis.\n",
    "\n",
    "### Time-step features\n",
    "\n",
    "There are two kinds of features unique to time series: time-step features and lag features.\n",
    "\n",
    "Time-step features are features we can derive directly from the time index. The most basic time-step feature is the **time dummy**, which counts off time steps in the series from beginning to end."
   ]
  },
  {
   "cell_type": "code",
   "execution_count": 3,
   "id": "14303061",
   "metadata": {
    "_kg_hide-input": true,
    "execution": {
     "iopub.execute_input": "2023-12-05T09:23:39.409364Z",
     "iopub.status.busy": "2023-12-05T09:23:39.408681Z",
     "iopub.status.idle": "2023-12-05T09:23:39.422104Z",
     "shell.execute_reply": "2023-12-05T09:23:39.421034Z"
    },
    "papermill": {
     "duration": 0.030211,
     "end_time": "2023-12-05T09:23:39.424756",
     "exception": false,
     "start_time": "2023-12-05T09:23:39.394545",
     "status": "completed"
    },
    "tags": []
   },
   "outputs": [
    {
     "name": "stdout",
     "output_type": "stream",
     "text": [
      "DatetimeIndex(['2000-04-01', '2000-04-02', '2000-04-03', '2000-04-04',\n",
      "               '2000-04-05', '2000-04-06', '2000-04-07', '2000-04-08',\n",
      "               '2000-04-09', '2000-04-10', '2000-04-11', '2000-04-12',\n",
      "               '2000-04-13', '2000-04-14', '2000-04-15', '2000-04-16',\n",
      "               '2000-04-17', '2000-04-18', '2000-04-19', '2000-04-20',\n",
      "               '2000-04-21', '2000-04-22', '2000-04-23', '2000-04-24',\n",
      "               '2000-04-25', '2000-04-26', '2000-04-27', '2000-04-28',\n",
      "               '2000-04-29', '2000-04-30'],\n",
      "              dtype='datetime64[ns]', name='Date', freq=None)\n"
     ]
    },
    {
     "data": {
      "text/html": [
       "<div>\n",
       "<style scoped>\n",
       "    .dataframe tbody tr th:only-of-type {\n",
       "        vertical-align: middle;\n",
       "    }\n",
       "\n",
       "    .dataframe tbody tr th {\n",
       "        vertical-align: top;\n",
       "    }\n",
       "\n",
       "    .dataframe thead th {\n",
       "        text-align: right;\n",
       "    }\n",
       "</style>\n",
       "<table border=\"1\" class=\"dataframe\">\n",
       "  <thead>\n",
       "    <tr style=\"text-align: right;\">\n",
       "      <th></th>\n",
       "      <th>Hardcover</th>\n",
       "      <th>Time</th>\n",
       "    </tr>\n",
       "    <tr>\n",
       "      <th>Date</th>\n",
       "      <th></th>\n",
       "      <th></th>\n",
       "    </tr>\n",
       "  </thead>\n",
       "  <tbody>\n",
       "    <tr>\n",
       "      <th>2000-04-01</th>\n",
       "      <td>139</td>\n",
       "      <td>0</td>\n",
       "    </tr>\n",
       "    <tr>\n",
       "      <th>2000-04-02</th>\n",
       "      <td>128</td>\n",
       "      <td>1</td>\n",
       "    </tr>\n",
       "    <tr>\n",
       "      <th>2000-04-03</th>\n",
       "      <td>172</td>\n",
       "      <td>2</td>\n",
       "    </tr>\n",
       "    <tr>\n",
       "      <th>2000-04-04</th>\n",
       "      <td>139</td>\n",
       "      <td>3</td>\n",
       "    </tr>\n",
       "    <tr>\n",
       "      <th>2000-04-05</th>\n",
       "      <td>191</td>\n",
       "      <td>4</td>\n",
       "    </tr>\n",
       "  </tbody>\n",
       "</table>\n",
       "</div>"
      ],
      "text/plain": [
       "            Hardcover  Time\n",
       "Date                       \n",
       "2000-04-01        139     0\n",
       "2000-04-02        128     1\n",
       "2000-04-03        172     2\n",
       "2000-04-04        139     3\n",
       "2000-04-05        191     4"
      ]
     },
     "execution_count": 3,
     "metadata": {},
     "output_type": "execute_result"
    }
   ],
   "source": [
    "\n",
    "import numpy as np\n",
    "# 创建一列Time，值就是顺序下来的\n",
    "df['Time'] = np.arange(len(df.index))\n",
    "# 读入数据的时候指定的索引为Date\n",
    "print(df.index)\n",
    "df.head()"
   ]
  },
  {
   "cell_type": "markdown",
   "id": "f53ff40e",
   "metadata": {
    "papermill": {
     "duration": 0.012673,
     "end_time": "2023-12-05T09:23:39.450627",
     "exception": false,
     "start_time": "2023-12-05T09:23:39.437954",
     "status": "completed"
    },
    "tags": []
   },
   "source": [
    "Linear regression with the time dummy produces the model:\n",
    "\n",
    "```\n",
    "target = weight * time + bias\n",
    "```\n",
    "\n",
    "The time dummy then lets us fit curves to time series in a *time plot*, where `Time` forms the x-axis."
   ]
  },
  {
   "cell_type": "code",
   "execution_count": 4,
   "id": "b1227f1f",
   "metadata": {
    "_kg_hide-input": true,
    "execution": {
     "iopub.execute_input": "2023-12-05T09:23:39.478787Z",
     "iopub.status.busy": "2023-12-05T09:23:39.478087Z",
     "iopub.status.idle": "2023-12-05T09:23:42.001206Z",
     "shell.execute_reply": "2023-12-05T09:23:41.999610Z"
    },
    "papermill": {
     "duration": 2.539874,
     "end_time": "2023-12-05T09:23:42.003378",
     "exception": true,
     "start_time": "2023-12-05T09:23:39.463504",
     "status": "failed"
    },
    "tags": []
   },
   "outputs": [
    {
     "name": "stderr",
     "output_type": "stream",
     "text": [
      "/tmp/ipykernel_19/1606259311.py:4: MatplotlibDeprecationWarning: The seaborn styles shipped by Matplotlib are deprecated since 3.6, as they no longer correspond to the styles shipped by seaborn. However, they will remain available as 'seaborn-v0_8-<style>'. Alternatively, directly use the seaborn API instead.\n",
      "  plt.style.use(\"seaborn-whitegrid\")\n"
     ]
    },
    {
     "ename": "NameError",
     "evalue": "name '折线图' is not defined",
     "output_type": "error",
     "traceback": [
      "\u001b[0;31m---------------------------------------------------------------------------\u001b[0m",
      "\u001b[0;31mNameError\u001b[0m                                 Traceback (most recent call last)",
      "Cell \u001b[0;32mIn[4], line 26\u001b[0m\n\u001b[1;32m     23\u001b[0m \u001b[38;5;66;03m# 总体目标 - 绘制时间和Hardcover的折现和回归线，对应真实值和预测值\u001b[39;00m\n\u001b[1;32m     24\u001b[0m \u001b[38;5;66;03m# 图表和轴对象\u001b[39;00m\n\u001b[1;32m     25\u001b[0m fig, ax \u001b[38;5;241m=\u001b[39m plt\u001b[38;5;241m.\u001b[39msubplots()\n\u001b[0;32m---> 26\u001b[0m \u001b[43m折线图\u001b[49m\n\u001b[1;32m     27\u001b[0m ax\u001b[38;5;241m.\u001b[39mplot(\u001b[38;5;124m'\u001b[39m\u001b[38;5;124mTime\u001b[39m\u001b[38;5;124m'\u001b[39m, \u001b[38;5;124m'\u001b[39m\u001b[38;5;124mHardcover\u001b[39m\u001b[38;5;124m'\u001b[39m, data\u001b[38;5;241m=\u001b[39mdf, color\u001b[38;5;241m=\u001b[39m\u001b[38;5;124m'\u001b[39m\u001b[38;5;124m0.75\u001b[39m\u001b[38;5;124m'\u001b[39m)\n\u001b[1;32m     28\u001b[0m \u001b[38;5;66;03m# 绘制一个回归线\u001b[39;00m\n",
      "\u001b[0;31mNameError\u001b[0m: name '折线图' is not defined"
     ]
    },
    {
     "data": {
      "image/png": "[encoded data removed]",
      "text/plain": [
       "<Figure size 1100x400 with 1 Axes>"
      ]
     },
     "metadata": {
      "image/png": {
       "height": 390,
       "width": 1089
      }
     },
     "output_type": "display_data"
    }
   ],
   "source": [
    "\n",
    "import matplotlib.pyplot as plt\n",
    "import seaborn as sns\n",
    "# 设置图标样式为seaborn库中的白色背景和灰色网格线\n",
    "plt.style.use(\"seaborn-whitegrid\")\n",
    "# 自定义图表figure和轴axes的属性\n",
    "plt.rc(\n",
    "    \"figure\",\n",
    "    autolayout=True,\n",
    "    figsize=(11, 4),\n",
    "    titlesize=18,\n",
    "    titleweight='bold',\n",
    ")\n",
    "plt.rc(\n",
    "    \"axes\",\n",
    "    labelweight=\"bold\",\n",
    "    labelsize=\"large\",\n",
    "    titleweight=\"bold\",\n",
    "    titlesize=16,\n",
    "    titlepad=10,\n",
    ")\n",
    "# 魔法命令，提高分辨率\n",
    "%config InlineBackend.figure_format = 'retina'\n",
    "# 总体目标 - 绘制时间和Hardcover的折现和回归线，对应真实值和预测值\n",
    "# 图表和轴对象\n",
    "fig, ax = plt.subplots()\n",
    "折线图\n",
    "ax.plot('Time', 'Hardcover', data=df, color='0.75')\n",
    "# 绘制一个回归线\n",
    "ax = sns.regplot(x='Time', y='Hardcover', data=df, ci=None, scatter_kws=dict(color='0.25'))\n",
    "ax.set_title('Time Plot of Hardcover Sales');"
   ]
  },
  {
   "cell_type": "markdown",
   "id": "b9a33898",
   "metadata": {
    "papermill": {
     "duration": null,
     "end_time": null,
     "exception": null,
     "start_time": null,
     "status": "pending"
    },
    "tags": []
   },
   "source": [
    "Time-step features let you model **time dependence**. A series is time dependent if its values can be predicted from the time they occured. In the *Hardcover Sales* series, we can predict that sales later in the month are generally higher than sales earlier in the month.\n",
    "\n",
    "### Lag features\n",
    "\n",
    "To make a **lag feature** we shift the observations of the target series so that they appear to have occured later in time. Here we've created a 1-step lag feature, though shifting by multiple steps is possible too."
   ]
  },
  {
   "cell_type": "code",
   "execution_count": null,
   "id": "e64ca0cb",
   "metadata": {
    "_kg_hide-input": true,
    "execution": {
     "iopub.execute_input": "2023-12-05T08:29:08.817424Z",
     "iopub.status.busy": "2023-12-05T08:29:08.817112Z",
     "iopub.status.idle": "2023-12-05T08:29:08.828444Z",
     "shell.execute_reply": "2023-12-05T08:29:08.827388Z",
     "shell.execute_reply.started": "2023-12-05T08:29:08.817400Z"
    },
    "papermill": {
     "duration": null,
     "end_time": null,
     "exception": null,
     "start_time": null,
     "status": "pending"
    },
    "tags": []
   },
   "outputs": [],
   "source": [
    "\n",
    "df['Lag_1'] = df['Hardcover'].shift(1)\n",
    "# lag1-滞后一天，4.2的数据是4.1的，4.3的数据是4.2的，也就是预测4.3真实值使用的是4.2的数据，避免了未来数据的干扰\n",
    "df = df.reindex(columns=['Hardcover', 'Lag_1'])\n",
    "\n",
    "df.head()"
   ]
  },
  {
   "cell_type": "markdown",
   "id": "e676e8a3",
   "metadata": {
    "papermill": {
     "duration": null,
     "end_time": null,
     "exception": null,
     "start_time": null,
     "status": "pending"
    },
    "tags": []
   },
   "source": [
    "Linear regression with a lag feature produces the model:\n",
    "\n",
    "```\n",
    "target = weight * lag + bias\n",
    "```\n",
    "\n",
    "So lag features let us fit curves to *lag plots* where each observation in a series is plotted against the previous observation."
   ]
  },
  {
   "cell_type": "code",
   "execution_count": null,
   "id": "0fe64f24",
   "metadata": {
    "_kg_hide-input": true,
    "execution": {
     "iopub.execute_input": "2023-12-05T08:30:36.611623Z",
     "iopub.status.busy": "2023-12-05T08:30:36.611318Z",
     "iopub.status.idle": "2023-12-05T08:30:37.010601Z",
     "shell.execute_reply": "2023-12-05T08:30:37.009612Z",
     "shell.execute_reply.started": "2023-12-05T08:30:36.611599Z"
    },
    "papermill": {
     "duration": null,
     "end_time": null,
     "exception": null,
     "start_time": null,
     "status": "pending"
    },
    "tags": []
   },
   "outputs": [],
   "source": [
    "\n",
    "fig, ax = plt.subplots()\n",
    "ax = sns.regplot(x='Lag_1', y='Hardcover', data=df, ci=None, scatter_kws=dict(color='0.25'))\n",
    "ax.set_aspect('equal')\n",
    "ax.set_title('Lag Plot of Hardcover Sales');"
   ]
  },
  {
   "cell_type": "markdown",
   "id": "e271b0ab",
   "metadata": {
    "papermill": {
     "duration": null,
     "end_time": null,
     "exception": null,
     "start_time": null,
     "status": "pending"
    },
    "tags": []
   },
   "source": [
    "You can see from the lag plot that sales on one day (`Hardcover`) are correlated with sales from the previous day (`Lag_1`). When you see a relationship like this, you know a lag feature will be useful.\n",
    "\n",
    "More generally, lag features let you model **serial dependence**. A time series has serial dependence when an observation can be predicted from previous observations. In *Hardcover Sales*, we can predict that high sales on one day usually mean high sales the next day.\n",
    "\n",
    "---\n",
    "\n",
    "Adapting machine learning algorithms to time series problems is largely about feature engineering with the time index and lags. For most of the course, we use linear regression for its simplicity, but these features will be useful whichever algorithm you choose for your forecasting task.\n",
    "\n",
    "# Example - Tunnel Traffic #\n",
    "\n",
    "*Tunnel Traffic* is a time series describing the number of vehicles traveling through the Baregg Tunnel in Switzerland each day from November 2003 to November 2005. In this example, we'll get some practice applying linear regression to time-step features and lag features.\n",
    "\n",
    "The hidden cell sets everything up."
   ]
  },
  {
   "cell_type": "code",
   "execution_count": null,
   "id": "813420da",
   "metadata": {
    "_kg_hide-input": true,
    "execution": {
     "iopub.execute_input": "2023-12-05T08:38:02.233551Z",
     "iopub.status.busy": "2023-12-05T08:38:02.233230Z",
     "iopub.status.idle": "2023-12-05T08:38:02.264067Z",
     "shell.execute_reply": "2023-12-05T08:38:02.263408Z",
     "shell.execute_reply.started": "2023-12-05T08:38:02.233527Z"
    },
    "papermill": {
     "duration": null,
     "end_time": null,
     "exception": null,
     "start_time": null,
     "status": "pending"
    },
    "tags": []
   },
   "outputs": [],
   "source": [
    "\n",
    "from pathlib import Path\n",
    "from warnings import simplefilter\n",
    "\n",
    "import matplotlib.pyplot as plt\n",
    "import numpy as np\n",
    "import pandas as pd\n",
    "\n",
    "simplefilter(\"ignore\")  # ignore warnings to clean up output cells\n",
    "\n",
    "# Set Matplotlib defaults\n",
    "plt.style.use(\"seaborn-whitegrid\")\n",
    "plt.rc(\"figure\", autolayout=True, figsize=(11, 4))\n",
    "plt.rc(\n",
    "    \"axes\",\n",
    "    labelweight=\"bold\",\n",
    "    labelsize=\"large\",\n",
    "    titleweight=\"bold\",\n",
    "    titlesize=14,\n",
    "    titlepad=10,\n",
    ")\n",
    "plot_params = dict(\n",
    "    color=\"0.75\",\n",
    "    style=\".-\",\n",
    "    markeredgecolor=\"0.25\",\n",
    "    markerfacecolor=\"0.25\",\n",
    "    legend=False,\n",
    ")\n",
    "%config InlineBackend.figure_format = 'retina'\n",
    "\n",
    "\n",
    "# Load Tunnel Traffic dataset\n",
    "data_dir = Path(\"../input/ts-course-data\")\n",
    "tunnel = pd.read_csv(data_dir / \"tunnel.csv\", parse_dates=[\"Day\"])\n",
    "print(tunnel)\n",
    "# Create a time series in Pandas by setting the index to a date\n",
    "# column. We parsed \"Day\" as a date type by using `parse_dates` when\n",
    "# loading the data.\n",
    "tunnel = tunnel.set_index(\"Day\")\n",
    "\n",
    "# By default, Pandas creates a `DatetimeIndex` with dtype `Timestamp`\n",
    "# (equivalent to `np.datetime64`, representing a time series as a\n",
    "# sequence of measurements taken at single moments. A `PeriodIndex`,\n",
    "# on the other hand, represents a time series as a sequence of\n",
    "# quantities accumulated over periods of time. Periods are often\n",
    "# easier to work with, so that's what we'll use in this course.\n",
    "# 在pandas中DatetimeIndex是代表瞬间的时间点，而PeriodIndex代表的是一个具体的时间段，比如说一天，而不是某个具体的时间点\n",
    "# 如果在一天中有多个时间节点，预处理的时候可能需要先聚合数据，然后再转成period\n",
    "tunnel = tunnel.to_period()\n",
    "\n",
    "tunnel.head()"
   ]
  },
  {
   "cell_type": "markdown",
   "id": "d6ad7264",
   "metadata": {
    "papermill": {
     "duration": null,
     "end_time": null,
     "exception": null,
     "start_time": null,
     "status": "pending"
    },
    "tags": []
   },
   "source": [
    "### Time-step feature\n",
    "\n",
    "Provided the time series doesn't have any missing dates, we can create a time dummy by counting out the length of the series."
   ]
  },
  {
   "cell_type": "code",
   "execution_count": null,
   "id": "7f92b8c8",
   "metadata": {
    "execution": {
     "iopub.execute_input": "2023-12-05T09:11:25.746105Z",
     "iopub.status.busy": "2023-12-05T09:11:25.745775Z",
     "iopub.status.idle": "2023-12-05T09:11:25.756054Z",
     "shell.execute_reply": "2023-12-05T09:11:25.754681Z",
     "shell.execute_reply.started": "2023-12-05T09:11:25.746081Z"
    },
    "papermill": {
     "duration": null,
     "end_time": null,
     "exception": null,
     "start_time": null,
     "status": "pending"
    },
    "tags": []
   },
   "outputs": [],
   "source": [
    "df = tunnel.copy()\n",
    "\n",
    "df['Time'] = np.arange(len(tunnel.index))\n",
    "\n",
    "df.head()"
   ]
  },
  {
   "cell_type": "markdown",
   "id": "f285aba5",
   "metadata": {
    "papermill": {
     "duration": null,
     "end_time": null,
     "exception": null,
     "start_time": null,
     "status": "pending"
    },
    "tags": []
   },
   "source": [
    "The procedure for fitting a linear regression model follows the standard steps for scikit-learn."
   ]
  },
  {
   "cell_type": "code",
   "execution_count": null,
   "id": "3153aaa9",
   "metadata": {
    "execution": {
     "iopub.execute_input": "2023-12-05T08:43:59.039144Z",
     "iopub.status.busy": "2023-12-05T08:43:59.037996Z",
     "iopub.status.idle": "2023-12-05T08:43:59.043985Z",
     "shell.execute_reply": "2023-12-05T08:43:59.043332Z",
     "shell.execute_reply.started": "2023-12-05T08:43:59.039082Z"
    },
    "papermill": {
     "duration": null,
     "end_time": null,
     "exception": null,
     "start_time": null,
     "status": "pending"
    },
    "tags": []
   },
   "outputs": [],
   "source": [
    "X = df.loc[:, ['Time']]  # features\n",
    "y = df.loc[:, 'NumVehicles']  # target"
   ]
  },
  {
   "cell_type": "code",
   "execution_count": null,
   "id": "924a7bb6",
   "metadata": {
    "execution": {
     "iopub.execute_input": "2023-12-05T09:12:00.013834Z",
     "iopub.status.busy": "2023-12-05T09:12:00.013512Z",
     "iopub.status.idle": "2023-12-05T09:12:00.025449Z",
     "shell.execute_reply": "2023-12-05T09:12:00.024219Z",
     "shell.execute_reply.started": "2023-12-05T09:12:00.013809Z"
    },
    "papermill": {
     "duration": null,
     "end_time": null,
     "exception": null,
     "start_time": null,
     "status": "pending"
    },
    "tags": []
   },
   "outputs": [],
   "source": [
    "X"
   ]
  },
  {
   "cell_type": "code",
   "execution_count": null,
   "id": "ecaf93e6",
   "metadata": {
    "execution": {
     "iopub.execute_input": "2023-12-05T09:12:13.313538Z",
     "iopub.status.busy": "2023-12-05T09:12:13.313245Z",
     "iopub.status.idle": "2023-12-05T09:12:13.320325Z",
     "shell.execute_reply": "2023-12-05T09:12:13.319379Z",
     "shell.execute_reply.started": "2023-12-05T09:12:13.313516Z"
    },
    "papermill": {
     "duration": null,
     "end_time": null,
     "exception": null,
     "start_time": null,
     "status": "pending"
    },
    "tags": []
   },
   "outputs": [],
   "source": [
    "y"
   ]
  },
  {
   "cell_type": "code",
   "execution_count": null,
   "id": "541dbd5b",
   "metadata": {
    "execution": {
     "iopub.execute_input": "2023-12-05T09:11:07.441860Z",
     "iopub.status.busy": "2023-12-05T09:11:07.441524Z",
     "iopub.status.idle": "2023-12-05T09:11:07.451260Z",
     "shell.execute_reply": "2023-12-05T09:11:07.450473Z",
     "shell.execute_reply.started": "2023-12-05T09:11:07.441823Z"
    },
    "papermill": {
     "duration": null,
     "end_time": null,
     "exception": null,
     "start_time": null,
     "status": "pending"
    },
    "tags": []
   },
   "outputs": [],
   "source": [
    "X, y"
   ]
  },
  {
   "cell_type": "code",
   "execution_count": null,
   "id": "bf48f90c",
   "metadata": {
    "papermill": {
     "duration": null,
     "end_time": null,
     "exception": null,
     "start_time": null,
     "status": "pending"
    },
    "tags": []
   },
   "outputs": [],
   "source": [
    "from sklearn.linear_model import LinearRegression\n",
    "\n",
    "# Training data\n",
    "# X是把时间和所有的Times列截下来，y是把时间和所对应的NumVehicles截下来\n",
    "X = df.loc[:, ['Time']]  # features\n",
    "y = df.loc[:, 'NumVehicles']  # target\n",
    "\n",
    "# Train the model\n",
    "model = LinearRegression()\n",
    "model.fit(X, y)\n",
    "\n",
    "# Store the fitted values as a time series with the same time index as\n",
    "# the training data\n",
    "y_pred = pd.Series(model.predict(X), index=X.index)"
   ]
  },
  {
   "cell_type": "code",
   "execution_count": null,
   "id": "d5111884",
   "metadata": {
    "execution": {
     "iopub.execute_input": "2023-12-05T08:48:50.028630Z",
     "iopub.status.busy": "2023-12-05T08:48:50.028320Z",
     "iopub.status.idle": "2023-12-05T08:48:50.036223Z",
     "shell.execute_reply": "2023-12-05T08:48:50.035071Z",
     "shell.execute_reply.started": "2023-12-05T08:48:50.028607Z"
    },
    "papermill": {
     "duration": null,
     "end_time": null,
     "exception": null,
     "start_time": null,
     "status": "pending"
    },
    "tags": []
   },
   "outputs": [],
   "source": [
    "X.index"
   ]
  },
  {
   "cell_type": "code",
   "execution_count": null,
   "id": "4f9afccf",
   "metadata": {
    "execution": {
     "iopub.execute_input": "2023-12-05T08:49:01.952841Z",
     "iopub.status.busy": "2023-12-05T08:49:01.952485Z",
     "iopub.status.idle": "2023-12-05T08:49:02.134329Z",
     "shell.execute_reply": "2023-12-05T08:49:02.133448Z",
     "shell.execute_reply.started": "2023-12-05T08:49:01.952818Z"
    },
    "papermill": {
     "duration": null,
     "end_time": null,
     "exception": null,
     "start_time": null,
     "status": "pending"
    },
    "tags": []
   },
   "outputs": [],
   "source": [
    "from sklearn.linear_model import LinearRegression\n",
    "model = LinearRegression()\n",
    "model.fit(X, y)\n",
    "y_pred = model.predict(X)"
   ]
  },
  {
   "cell_type": "code",
   "execution_count": null,
   "id": "9898b2bc",
   "metadata": {
    "execution": {
     "iopub.execute_input": "2023-12-05T08:49:29.096905Z",
     "iopub.status.busy": "2023-12-05T08:49:29.096598Z",
     "iopub.status.idle": "2023-12-05T08:49:29.103749Z",
     "shell.execute_reply": "2023-12-05T08:49:29.102883Z",
     "shell.execute_reply.started": "2023-12-05T08:49:29.096883Z"
    },
    "papermill": {
     "duration": null,
     "end_time": null,
     "exception": null,
     "start_time": null,
     "status": "pending"
    },
    "tags": []
   },
   "outputs": [],
   "source": [
    "y_pred[:5]"
   ]
  },
  {
   "cell_type": "code",
   "execution_count": null,
   "id": "bf77e687",
   "metadata": {
    "execution": {
     "iopub.execute_input": "2023-12-05T08:50:05.303313Z",
     "iopub.status.busy": "2023-12-05T08:50:05.303016Z",
     "iopub.status.idle": "2023-12-05T08:50:05.311173Z",
     "shell.execute_reply": "2023-12-05T08:50:05.310521Z",
     "shell.execute_reply.started": "2023-12-05T08:50:05.303292Z"
    },
    "papermill": {
     "duration": null,
     "end_time": null,
     "exception": null,
     "start_time": null,
     "status": "pending"
    },
    "tags": []
   },
   "outputs": [],
   "source": [
    "y_pred = pd.Series(y_pred, index=X.index)\n",
    "y_pred"
   ]
  },
  {
   "cell_type": "markdown",
   "id": "08a53e01",
   "metadata": {
    "papermill": {
     "duration": null,
     "end_time": null,
     "exception": null,
     "start_time": null,
     "status": "pending"
    },
    "tags": []
   },
   "source": [
    "The model actually created is (approximately): `Vehicles = 22.5 * Time + 98176`. Plotting the fitted values over time shows us how fitting linear regression to the time dummy creates the trend line defined by this equation."
   ]
  },
  {
   "cell_type": "code",
   "execution_count": null,
   "id": "cb4fb41b",
   "metadata": {
    "execution": {
     "iopub.execute_input": "2023-12-05T08:52:19.885146Z",
     "iopub.status.busy": "2023-12-05T08:52:19.884794Z",
     "iopub.status.idle": "2023-12-05T08:52:19.893597Z",
     "shell.execute_reply": "2023-12-05T08:52:19.892364Z",
     "shell.execute_reply.started": "2023-12-05T08:52:19.885119Z"
    },
    "papermill": {
     "duration": null,
     "end_time": null,
     "exception": null,
     "start_time": null,
     "status": "pending"
    },
    "tags": []
   },
   "outputs": [],
   "source": [
    "y"
   ]
  },
  {
   "cell_type": "code",
   "execution_count": null,
   "id": "bf08851f",
   "metadata": {
    "_kg_hide-input": true,
    "execution": {
     "iopub.execute_input": "2023-12-05T08:51:48.522567Z",
     "iopub.status.busy": "2023-12-05T08:51:48.522247Z",
     "iopub.status.idle": "2023-12-05T08:51:49.057916Z",
     "shell.execute_reply": "2023-12-05T08:51:49.057169Z",
     "shell.execute_reply.started": "2023-12-05T08:51:48.522542Z"
    },
    "papermill": {
     "duration": null,
     "end_time": null,
     "exception": null,
     "start_time": null,
     "status": "pending"
    },
    "tags": []
   },
   "outputs": [],
   "source": [
    "\n",
    "ax = y.plot(**plot_params)\n",
    "ax = y_pred.plot(ax=ax, linewidth=3)\n",
    "ax.set_title('Time Plot of Tunnel Traffic');"
   ]
  },
  {
   "cell_type": "markdown",
   "id": "236319a3",
   "metadata": {
    "papermill": {
     "duration": null,
     "end_time": null,
     "exception": null,
     "start_time": null,
     "status": "pending"
    },
    "tags": []
   },
   "source": [
    "### Lag feature\n",
    "\n",
    "Pandas provides us a simple method to lag a series, the `shift` method."
   ]
  },
  {
   "cell_type": "code",
   "execution_count": null,
   "id": "cfb43eff",
   "metadata": {
    "execution": {
     "iopub.execute_input": "2023-12-05T08:52:58.886703Z",
     "iopub.status.busy": "2023-12-05T08:52:58.886365Z",
     "iopub.status.idle": "2023-12-05T08:52:58.897384Z",
     "shell.execute_reply": "2023-12-05T08:52:58.896406Z",
     "shell.execute_reply.started": "2023-12-05T08:52:58.886668Z"
    },
    "papermill": {
     "duration": null,
     "end_time": null,
     "exception": null,
     "start_time": null,
     "status": "pending"
    },
    "tags": []
   },
   "outputs": [],
   "source": [
    "# 额外创建新的lag_1，是通过NumVehicles来滞后一个单位做预测的\n",
    "df['Lag_1'] = df['NumVehicles'].shift(1)\n",
    "df.head()"
   ]
  },
  {
   "cell_type": "markdown",
   "id": "f9cba622",
   "metadata": {
    "papermill": {
     "duration": null,
     "end_time": null,
     "exception": null,
     "start_time": null,
     "status": "pending"
    },
    "tags": []
   },
   "source": [
    "When creating lag features, we need to decide what to do with the missing values produced. Filling them in is one option, maybe with 0.0 or \"backfilling\" with the first known value. Instead, we'll just drop the missing values, making sure to also drop values in the target from corresponding dates."
   ]
  },
  {
   "cell_type": "code",
   "execution_count": null,
   "id": "6d58f801",
   "metadata": {
    "execution": {
     "iopub.execute_input": "2023-12-05T08:58:02.349064Z",
     "iopub.status.busy": "2023-12-05T08:58:02.348712Z",
     "iopub.status.idle": "2023-12-05T08:58:02.364145Z",
     "shell.execute_reply": "2023-12-05T08:58:02.363237Z",
     "shell.execute_reply.started": "2023-12-05T08:58:02.349038Z"
    },
    "papermill": {
     "duration": null,
     "end_time": null,
     "exception": null,
     "start_time": null,
     "status": "pending"
    },
    "tags": []
   },
   "outputs": [],
   "source": [
    "from sklearn.linear_model import LinearRegression\n",
    "\n",
    "X = df.loc[:, ['Lag_1']]\n",
    "X.dropna(inplace=True)  # drop missing values in the feature set\n",
    "y = df.loc[:, 'NumVehicles']  # create the target\n",
    "y, X = y.align(X, join='inner')  # drop corresponding values in target\n",
    "\n",
    "model = LinearRegression()\n",
    "model.fit(X, y)\n",
    "\n",
    "y_pred = pd.Series(model.predict(X), index=X.index)\n",
    "y_pred"
   ]
  },
  {
   "cell_type": "code",
   "execution_count": null,
   "id": "319cc0db",
   "metadata": {
    "execution": {
     "iopub.execute_input": "2023-12-05T09:03:56.009669Z",
     "iopub.status.busy": "2023-12-05T09:03:56.009360Z",
     "iopub.status.idle": "2023-12-05T09:03:56.026040Z",
     "shell.execute_reply": "2023-12-05T09:03:56.025039Z",
     "shell.execute_reply.started": "2023-12-05T09:03:56.009645Z"
    },
    "papermill": {
     "duration": null,
     "end_time": null,
     "exception": null,
     "start_time": null,
     "status": "pending"
    },
    "tags": []
   },
   "outputs": [],
   "source": [
    "from sklearn.linear_model import LinearRegression\n",
    "X = df.loc[:, ['Lag_1']]\n",
    "X.fillna(method='backfill', inplace=True)\n",
    "y = df.loc[:, 'NumVehicles']\n",
    "y, X = y.align(X, join='inner')\n",
    "model = LinearRegression()\n",
    "model.fit(X, y)\n",
    "y_pred = pd.Series(model.predict(X), index=X.index)\n",
    "y_pred"
   ]
  },
  {
   "cell_type": "markdown",
   "id": "4d1227a9",
   "metadata": {
    "papermill": {
     "duration": null,
     "end_time": null,
     "exception": null,
     "start_time": null,
     "status": "pending"
    },
    "tags": []
   },
   "source": [
    "The lag plot shows us how well we were able to fit the relationship between the number of vehicles one day and the number the previous day."
   ]
  },
  {
   "cell_type": "code",
   "execution_count": null,
   "id": "9d15a532",
   "metadata": {
    "_kg_hide-input": true,
    "execution": {
     "iopub.execute_input": "2023-12-05T09:04:42.056842Z",
     "iopub.status.busy": "2023-12-05T09:04:42.056568Z",
     "iopub.status.idle": "2023-12-05T09:04:42.357063Z",
     "shell.execute_reply": "2023-12-05T09:04:42.356133Z",
     "shell.execute_reply.started": "2023-12-05T09:04:42.056821Z"
    },
    "papermill": {
     "duration": null,
     "end_time": null,
     "exception": null,
     "start_time": null,
     "status": "pending"
    },
    "tags": []
   },
   "outputs": [],
   "source": [
    "\n",
    "fig, ax = plt.subplots()\n",
    "ax.plot(X['Lag_1'], y, '.', color='0.25')\n",
    "ax.plot(X['Lag_1'], y_pred)\n",
    "ax.set_aspect('equal')\n",
    "ax.set_ylabel('NumVehicles')\n",
    "ax.set_xlabel('Lag_1')\n",
    "ax.set_title('Lag Plot of Tunnel Traffic');"
   ]
  },
  {
   "cell_type": "code",
   "execution_count": null,
   "id": "014c2865",
   "metadata": {
    "execution": {
     "iopub.execute_input": "2023-12-05T09:10:31.779602Z",
     "iopub.status.busy": "2023-12-05T09:10:31.779309Z",
     "iopub.status.idle": "2023-12-05T09:10:31.787051Z",
     "shell.execute_reply": "2023-12-05T09:10:31.786205Z",
     "shell.execute_reply.started": "2023-12-05T09:10:31.779581Z"
    },
    "papermill": {
     "duration": null,
     "end_time": null,
     "exception": null,
     "start_time": null,
     "status": "pending"
    },
    "tags": []
   },
   "outputs": [],
   "source": [
    "y"
   ]
  },
  {
   "cell_type": "code",
   "execution_count": null,
   "id": "47934678",
   "metadata": {
    "execution": {
     "iopub.execute_input": "2023-12-05T09:10:39.384002Z",
     "iopub.status.busy": "2023-12-05T09:10:39.383323Z",
     "iopub.status.idle": "2023-12-05T09:10:39.391446Z",
     "shell.execute_reply": "2023-12-05T09:10:39.390480Z",
     "shell.execute_reply.started": "2023-12-05T09:10:39.383974Z"
    },
    "papermill": {
     "duration": null,
     "end_time": null,
     "exception": null,
     "start_time": null,
     "status": "pending"
    },
    "tags": []
   },
   "outputs": [],
   "source": [
    "y_pred"
   ]
  },
  {
   "cell_type": "markdown",
   "id": "2250519c",
   "metadata": {
    "papermill": {
     "duration": null,
     "end_time": null,
     "exception": null,
     "start_time": null,
     "status": "pending"
    },
    "tags": []
   },
   "source": [
    "What does this prediction from a lag feature mean about how well we can predict the series across time? The following time plot shows us how our forecasts now respond to the behavior of the series in the recent past."
   ]
  },
  {
   "cell_type": "code",
   "execution_count": null,
   "id": "5ff4f2aa",
   "metadata": {
    "_kg_hide-input": true,
    "execution": {
     "iopub.execute_input": "2023-12-05T09:08:04.241553Z",
     "iopub.status.busy": "2023-12-05T09:08:04.241247Z",
     "iopub.status.idle": "2023-12-05T09:08:04.735142Z",
     "shell.execute_reply": "2023-12-05T09:08:04.731422Z",
     "shell.execute_reply.started": "2023-12-05T09:08:04.241530Z"
    },
    "papermill": {
     "duration": null,
     "end_time": null,
     "exception": null,
     "start_time": null,
     "status": "pending"
    },
    "tags": []
   },
   "outputs": [],
   "source": [
    "# y是真实值，y_pred是预测值，二者对比着看\n",
    "ax = y.plot(**plot_params)\n",
    "ax = y_pred.plot()"
   ]
  },
  {
   "cell_type": "markdown",
   "id": "da62ee02",
   "metadata": {
    "papermill": {
     "duration": null,
     "end_time": null,
     "exception": null,
     "start_time": null,
     "status": "pending"
    },
    "tags": []
   },
   "source": [
    "The best time series models will usually include some combination of time-step features and lag features. Over the next few lessons, we'll learn how to engineer features modeling the most common patterns in time series using the features from this lesson as a starting point.\n",
    "\n",
    "# Your Turn #\n",
    "\n",
    "Move on to the Exercise, where you'll begin [**forecasting Store Sales**](https://www.kaggle.com/kernels/fork/19615998) using the techniques you learned in this tutorial."
   ]
  },
  {
   "cell_type": "markdown",
   "id": "659d9311",
   "metadata": {
    "papermill": {
     "duration": null,
     "end_time": null,
     "exception": null,
     "start_time": null,
     "status": "pending"
    },
    "tags": []
   },
   "source": [
    "---\n",
    "\n",
    "\n",
    "\n",
    "\n",
    "*Have questions or comments? Visit the [course discussion forum](https://www.kaggle.com/learn/time-series/discussion) to chat with other learners.*"
   ]
  }
 ],
 "metadata": {
  "jupytext": {
   "formats": "ipynb,md"
  },
  "kaggle": {
   "accelerator": "none",
   "dataSources": [
    {
     "databundleVersionId": 2887556,
     "sourceId": 29781,
     "sourceType": "competition"
    },
    {
     "datasetId": 1169793,
     "sourceId": 2484624,
     "sourceType": "datasetVersion"
    }
   ],
   "isGpuEnabled": false,
   "isInternetEnabled": false,
   "language": "python",
   "sourceType": "notebook"
  },
  "kernelspec": {
   "display_name": "Python 3",
   "language": "python",
   "name": "python3"
  },
  "language_info": {
   "codemirror_mode": {
    "name": "ipython",
    "version": 3
   },
   "file_extension": ".py",
   "mimetype": "text/x-python",
   "name": "python",
   "nbconvert_exporter": "python",
   "pygments_lexer": "ipython3",
   "version": "3.10.12"
  },
  "papermill": {
   "default_parameters": {},
   "duration": 7.569121,
   "end_time": "2023-12-05T09:23:42.742027",
   "environment_variables": {},
   "exception": true,
   "input_path": "__notebook__.ipynb",
   "output_path": "__notebook__.ipynb",
   "parameters": {},
   "start_time": "2023-12-05T09:23:35.172906",
   "version": "2.4.0"
  }
 },
 "nbformat": 4,
 "nbformat_minor": 5
}
