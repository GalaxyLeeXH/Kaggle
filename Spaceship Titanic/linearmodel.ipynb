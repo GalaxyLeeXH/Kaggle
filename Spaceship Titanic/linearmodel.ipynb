{
 "cells": [
  {
   "cell_type": "code",
   "execution_count": 1,
   "id": "2590650b",
   "metadata": {
    "_cell_guid": "b1076dfc-b9ad-4769-8c92-a6c4dae69d19",
    "_uuid": "8f2839f25d086af736a60e9eeb907d3b93b6e0e5",
    "execution": {
     "iopub.execute_input": "2023-12-02T17:44:36.728418Z",
     "iopub.status.busy": "2023-12-02T17:44:36.727654Z",
     "iopub.status.idle": "2023-12-02T17:44:37.440410Z",
     "shell.execute_reply": "2023-12-02T17:44:37.439327Z"
    },
    "papermill": {
     "duration": 0.723686,
     "end_time": "2023-12-02T17:44:37.442713",
     "exception": false,
     "start_time": "2023-12-02T17:44:36.719027",
     "status": "completed"
    },
    "tags": []
   },
   "outputs": [
    {
     "name": "stdout",
     "output_type": "stream",
     "text": [
      "/kaggle/input/spaceship-titanic/sample_submission.csv\n",
      "/kaggle/input/spaceship-titanic/train.csv\n",
      "/kaggle/input/spaceship-titanic/test.csv\n"
     ]
    }
   ],
   "source": [
    "# This Python 3 environment comes with many helpful analytics libraries installed\n",
    "# It is defined by the kaggle/python Docker image: https://github.com/kaggle/docker-python\n",
    "# For example, here's several helpful packages to load\n",
    "\n",
    "import numpy as np # linear algebra\n",
    "import pandas as pd # data processing, CSV file I/O (e.g. pd.read_csv)\n",
    "\n",
    "# Input data files are available in the read-only \"../input/\" directory\n",
    "# For example, running this (by clicking run or pressing Shift+Enter) will list all files under the input directory\n",
    "\n",
    "import os\n",
    "for dirname, _, filenames in os.walk('/kaggle/input'):\n",
    "    for filename in filenames:\n",
    "        print(os.path.join(dirname, filename))\n",
    "\n",
    "# You can write up to 20GB to the current directory (/kaggle/working/) that gets preserved as output when you create a version using \"Save & Run All\" \n",
    "# You can also write temporary files to /kaggle/temp/, but they won't be saved outside of the current session"
   ]
  },
  {
   "cell_type": "code",
   "execution_count": 2,
   "id": "d372a9ab",
   "metadata": {
    "execution": {
     "iopub.execute_input": "2023-12-02T17:44:37.458258Z",
     "iopub.status.busy": "2023-12-02T17:44:37.457316Z",
     "iopub.status.idle": "2023-12-02T17:44:41.776917Z",
     "shell.execute_reply": "2023-12-02T17:44:41.776085Z"
    },
    "papermill": {
     "duration": 4.329542,
     "end_time": "2023-12-02T17:44:41.779263",
     "exception": false,
     "start_time": "2023-12-02T17:44:37.449721",
     "status": "completed"
    },
    "tags": []
   },
   "outputs": [
    {
     "name": "stderr",
     "output_type": "stream",
     "text": [
      "/opt/conda/lib/python3.10/site-packages/scipy/__init__.py:146: UserWarning: A NumPy version >=1.16.5 and <1.23.0 is required for this version of SciPy (detected version 1.24.3\n",
      "  warnings.warn(f\"A NumPy version >={np_minversion} and <{np_maxversion}\"\n"
     ]
    }
   ],
   "source": [
    "import pandas as pd\n",
    "import matplotlib.pyplot as plt\n",
    "import numpy as np\n",
    "import seaborn as sns\n",
    "import torch\n",
    "import torch.nn as nn\n",
    "import torch.optim as optim"
   ]
  },
  {
   "cell_type": "code",
   "execution_count": 3,
   "id": "08c7cdfa",
   "metadata": {
    "execution": {
     "iopub.execute_input": "2023-12-02T17:44:41.794632Z",
     "iopub.status.busy": "2023-12-02T17:44:41.794165Z",
     "iopub.status.idle": "2023-12-02T17:44:41.889671Z",
     "shell.execute_reply": "2023-12-02T17:44:41.888680Z"
    },
    "papermill": {
     "duration": 0.105605,
     "end_time": "2023-12-02T17:44:41.891787",
     "exception": false,
     "start_time": "2023-12-02T17:44:41.786182",
     "status": "completed"
    },
    "tags": []
   },
   "outputs": [
    {
     "name": "stdout",
     "output_type": "stream",
     "text": [
      "train_data.shape: (8693, 14)\n",
      "test_data.shape: (4277, 13)\n"
     ]
    }
   ],
   "source": [
    "train_data = pd.read_csv(\"/kaggle/input/spaceship-titanic/train.csv\")\n",
    "test_data = pd.read_csv(\"/kaggle/input/spaceship-titanic/test.csv\")\n",
    "print(f\"train_data.shape: {train_data.shape}\")\n",
    "print(f\"test_data.shape: {test_data.shape}\")"
   ]
  },
  {
   "cell_type": "code",
   "execution_count": 4,
   "id": "4c109ae4",
   "metadata": {
    "execution": {
     "iopub.execute_input": "2023-12-02T17:44:41.907246Z",
     "iopub.status.busy": "2023-12-02T17:44:41.906946Z",
     "iopub.status.idle": "2023-12-02T17:44:41.949324Z",
     "shell.execute_reply": "2023-12-02T17:44:41.948313Z"
    },
    "papermill": {
     "duration": 0.05215,
     "end_time": "2023-12-02T17:44:41.951284",
     "exception": false,
     "start_time": "2023-12-02T17:44:41.899134",
     "status": "completed"
    },
    "tags": []
   },
   "outputs": [
    {
     "name": "stdout",
     "output_type": "stream",
     "text": [
      "<class 'pandas.core.frame.DataFrame'>\n",
      "RangeIndex: 8693 entries, 0 to 8692\n",
      "Data columns (total 14 columns):\n",
      " #   Column        Non-Null Count  Dtype  \n",
      "---  ------        --------------  -----  \n",
      " 0   PassengerId   8693 non-null   object \n",
      " 1   HomePlanet    8492 non-null   object \n",
      " 2   CryoSleep     8476 non-null   object \n",
      " 3   Cabin         8494 non-null   object \n",
      " 4   Destination   8511 non-null   object \n",
      " 5   Age           8514 non-null   float64\n",
      " 6   VIP           8490 non-null   object \n",
      " 7   RoomService   8512 non-null   float64\n",
      " 8   FoodCourt     8510 non-null   float64\n",
      " 9   ShoppingMall  8485 non-null   float64\n",
      " 10  Spa           8510 non-null   float64\n",
      " 11  VRDeck        8505 non-null   float64\n",
      " 12  Name          8493 non-null   object \n",
      " 13  Transported   8693 non-null   bool   \n",
      "dtypes: bool(1), float64(6), object(7)\n",
      "memory usage: 891.5+ KB\n"
     ]
    }
   ],
   "source": [
    "train_data.describe()\n",
    "train_data.info()"
   ]
  },
  {
   "cell_type": "code",
   "execution_count": 5,
   "id": "28d7a487",
   "metadata": {
    "execution": {
     "iopub.execute_input": "2023-12-02T17:44:41.966352Z",
     "iopub.status.busy": "2023-12-02T17:44:41.966068Z",
     "iopub.status.idle": "2023-12-02T17:44:42.204734Z",
     "shell.execute_reply": "2023-12-02T17:44:42.203870Z"
    },
    "papermill": {
     "duration": 0.248615,
     "end_time": "2023-12-02T17:44:42.206912",
     "exception": false,
     "start_time": "2023-12-02T17:44:41.958297",
     "status": "completed"
    },
    "tags": []
   },
   "outputs": [
    {
     "data": {
      "text/plain": [
       "<Axes: xlabel='Transported'>"
      ]
     },
     "execution_count": 5,
     "metadata": {},
     "output_type": "execute_result"
    },
    {
     "data": {
      "image/png": "[encoded data removed]",
      "text/plain": [
       "<Figure size 640x480 with 1 Axes>"
      ]
     },
     "metadata": {},
     "output_type": "display_data"
    }
   ],
   "source": [
    "# 分析DataFrame中Transported的值出现的次数\n",
    "# value_counts用来统计Transported列中每个唯一值出现的次数\n",
    "plot_train = train_data.Transported.value_counts()\n",
    "# 借助上面的内容绘制条状图\n",
    "plot_train.plot(kind='bar')"
   ]
  },
  {
   "cell_type": "code",
   "execution_count": 6,
   "id": "8460baf0",
   "metadata": {
    "execution": {
     "iopub.execute_input": "2023-12-02T17:44:42.222507Z",
     "iopub.status.busy": "2023-12-02T17:44:42.222202Z",
     "iopub.status.idle": "2023-12-02T17:44:43.871184Z",
     "shell.execute_reply": "2023-12-02T17:44:43.870264Z"
    },
    "papermill": {
     "duration": 1.659218,
     "end_time": "2023-12-02T17:44:43.873487",
     "exception": false,
     "start_time": "2023-12-02T17:44:42.214269",
     "status": "completed"
    },
    "tags": []
   },
   "outputs": [
    {
     "name": "stderr",
     "output_type": "stream",
     "text": [
      "/opt/conda/lib/python3.10/site-packages/seaborn/_oldcore.py:1498: FutureWarning: is_categorical_dtype is deprecated and will be removed in a future version. Use isinstance(dtype, CategoricalDtype) instead\n",
      "  if pd.api.types.is_categorical_dtype(vector):\n",
      "/opt/conda/lib/python3.10/site-packages/seaborn/_oldcore.py:1119: FutureWarning: use_inf_as_na option is deprecated and will be removed in a future version. Convert inf values to NaN before operating instead.\n",
      "  with pd.option_context('mode.use_inf_as_na', True):\n",
      "/opt/conda/lib/python3.10/site-packages/seaborn/_oldcore.py:1498: FutureWarning: is_categorical_dtype is deprecated and will be removed in a future version. Use isinstance(dtype, CategoricalDtype) instead\n",
      "  if pd.api.types.is_categorical_dtype(vector):\n",
      "/opt/conda/lib/python3.10/site-packages/seaborn/_oldcore.py:1119: FutureWarning: use_inf_as_na option is deprecated and will be removed in a future version. Convert inf values to NaN before operating instead.\n",
      "  with pd.option_context('mode.use_inf_as_na', True):\n"
     ]
    },
    {
     "name": "stdout",
     "output_type": "stream",
     "text": [
      "29813.0\n"
     ]
    },
    {
     "name": "stderr",
     "output_type": "stream",
     "text": [
      "/opt/conda/lib/python3.10/site-packages/seaborn/_oldcore.py:1498: FutureWarning: is_categorical_dtype is deprecated and will be removed in a future version. Use isinstance(dtype, CategoricalDtype) instead\n",
      "  if pd.api.types.is_categorical_dtype(vector):\n",
      "/opt/conda/lib/python3.10/site-packages/seaborn/_oldcore.py:1119: FutureWarning: use_inf_as_na option is deprecated and will be removed in a future version. Convert inf values to NaN before operating instead.\n",
      "  with pd.option_context('mode.use_inf_as_na', True):\n",
      "/opt/conda/lib/python3.10/site-packages/seaborn/_oldcore.py:1498: FutureWarning: is_categorical_dtype is deprecated and will be removed in a future version. Use isinstance(dtype, CategoricalDtype) instead\n",
      "  if pd.api.types.is_categorical_dtype(vector):\n",
      "/opt/conda/lib/python3.10/site-packages/seaborn/_oldcore.py:1119: FutureWarning: use_inf_as_na option is deprecated and will be removed in a future version. Convert inf values to NaN before operating instead.\n",
      "  with pd.option_context('mode.use_inf_as_na', True):\n",
      "/opt/conda/lib/python3.10/site-packages/seaborn/_oldcore.py:1498: FutureWarning: is_categorical_dtype is deprecated and will be removed in a future version. Use isinstance(dtype, CategoricalDtype) instead\n",
      "  if pd.api.types.is_categorical_dtype(vector):\n",
      "/opt/conda/lib/python3.10/site-packages/seaborn/_oldcore.py:1119: FutureWarning: use_inf_as_na option is deprecated and will be removed in a future version. Convert inf values to NaN before operating instead.\n",
      "  with pd.option_context('mode.use_inf_as_na', True):\n"
     ]
    },
    {
     "data": {
      "text/plain": [
       "<Axes: xlabel='VRDeck', ylabel='Count'>"
      ]
     },
     "execution_count": 6,
     "metadata": {},
     "output_type": "execute_result"
    },
    {
     "data": {
      "image/png": "[encoded data removed]",
      "text/plain": [
       "<Figure size 800x800 with 5 Axes>"
      ]
     },
     "metadata": {},
     "output_type": "display_data"
    }
   ],
   "source": [
    "fig, ax = plt.subplots(5, 1, figsize=(8, 8))\n",
    "plt.subplots_adjust(top=2)\n",
    "\n",
    "sns.histplot(train_data['Age'], color='b', bins=50, ax=ax[0])\n",
    "\n",
    "max_foodcourt = train_data['FoodCourt'].max()\n",
    "print(max_foodcourt)\n",
    "sns.histplot(train_data['FoodCourt'], color='b', bins=50, ax=ax[1])\n",
    "ax[1].set_xlim(0, max_foodcourt)\n",
    "\n",
    "sns.histplot(train_data['ShoppingMall'], color='b', bins=50, ax=ax[2])\n",
    "\n",
    "sns.histplot(train_data['Spa'], color='b', bins=50, ax=ax[3])\n",
    "\n",
    "sns.histplot(train_data['VRDeck'], color='b', bins=50, ax=ax[4])"
   ]
  },
  {
   "cell_type": "code",
   "execution_count": 7,
   "id": "434ef577",
   "metadata": {
    "execution": {
     "iopub.execute_input": "2023-12-02T17:44:43.892751Z",
     "iopub.status.busy": "2023-12-02T17:44:43.892151Z",
     "iopub.status.idle": "2023-12-02T17:44:43.900240Z",
     "shell.execute_reply": "2023-12-02T17:44:43.899224Z"
    },
    "papermill": {
     "duration": 0.01986,
     "end_time": "2023-12-02T17:44:43.902209",
     "exception": false,
     "start_time": "2023-12-02T17:44:43.882349",
     "status": "completed"
    },
    "tags": []
   },
   "outputs": [
    {
     "name": "stdout",
     "output_type": "stream",
     "text": [
      "train_data.colunmns: Index(['PassengerId', 'HomePlanet', 'CryoSleep', 'Cabin', 'Destination', 'Age',\n",
      "       'VIP', 'RoomService', 'FoodCourt', 'ShoppingMall', 'Spa', 'VRDeck',\n",
      "       'Name', 'Transported'],\n",
      "      dtype='object')\n",
      "\n",
      "\n",
      "train_data.colunmns: Index(['HomePlanet', 'CryoSleep', 'Cabin', 'Destination', 'Age', 'VIP',\n",
      "       'RoomService', 'FoodCourt', 'ShoppingMall', 'Spa', 'VRDeck',\n",
      "       'Transported'],\n",
      "      dtype='object')\n",
      "\n",
      "\n",
      "test_data.colunmns: Index(['PassengerId', 'HomePlanet', 'CryoSleep', 'Cabin', 'Destination', 'Age',\n",
      "       'VIP', 'RoomService', 'FoodCourt', 'ShoppingMall', 'Spa', 'VRDeck',\n",
      "       'Name'],\n",
      "      dtype='object')\n"
     ]
    }
   ],
   "source": [
    "# 预处理数据：唯一标识符，比如ID或者name或者邮箱这种信息可以去掉，因为对预测没有帮助\n",
    "print(f\"train_data.colunmns: {train_data.columns}\\n\\n\")\n",
    "train_data = train_data.drop(['PassengerId', 'Name'], axis=1)\n",
    "print(f\"train_data.colunmns: {train_data.columns}\\n\\n\")\n",
    "print(f\"test_data.colunmns: {test_data.columns}\")"
   ]
  },
  {
   "cell_type": "code",
   "execution_count": 8,
   "id": "2d5fa659",
   "metadata": {
    "execution": {
     "iopub.execute_input": "2023-12-02T17:44:43.920890Z",
     "iopub.status.busy": "2023-12-02T17:44:43.920622Z",
     "iopub.status.idle": "2023-12-02T17:44:43.928618Z",
     "shell.execute_reply": "2023-12-02T17:44:43.927652Z"
    },
    "papermill": {
     "duration": 0.019765,
     "end_time": "2023-12-02T17:44:43.930661",
     "exception": false,
     "start_time": "2023-12-02T17:44:43.910896",
     "status": "completed"
    },
    "tags": []
   },
   "outputs": [
    {
     "name": "stdout",
     "output_type": "stream",
     "text": [
      "0       0013_01\n",
      "1       0018_01\n",
      "2       0019_01\n",
      "3       0021_01\n",
      "4       0023_01\n",
      "         ...   \n",
      "4272    9266_02\n",
      "4273    9269_01\n",
      "4274    9271_01\n",
      "4275    9273_01\n",
      "4276    9277_01\n",
      "Name: PassengerId, Length: 4277, dtype: object\n",
      "test_data.colunmns: Index(['HomePlanet', 'CryoSleep', 'Cabin', 'Destination', 'Age', 'VIP',\n",
      "       'RoomService', 'FoodCourt', 'ShoppingMall', 'Spa', 'VRDeck'],\n",
      "      dtype='object')\n"
     ]
    }
   ],
   "source": [
    "# 把test的passenger ID保留下来，然后把它和name一起删掉\n",
    "test_id = test_data['PassengerId']\n",
    "print(test_id)\n",
    "test_data = test_data.drop(['PassengerId', 'Name'], axis=1)\n",
    "print(f\"test_data.colunmns: {test_data.columns}\")"
   ]
  },
  {
   "cell_type": "code",
   "execution_count": 9,
   "id": "09221514",
   "metadata": {
    "execution": {
     "iopub.execute_input": "2023-12-02T17:44:43.950382Z",
     "iopub.status.busy": "2023-12-02T17:44:43.950122Z",
     "iopub.status.idle": "2023-12-02T17:44:43.964416Z",
     "shell.execute_reply": "2023-12-02T17:44:43.963359Z"
    },
    "papermill": {
     "duration": 0.026283,
     "end_time": "2023-12-02T17:44:43.966525",
     "exception": false,
     "start_time": "2023-12-02T17:44:43.940242",
     "status": "completed"
    },
    "tags": []
   },
   "outputs": [
    {
     "name": "stdout",
     "output_type": "stream",
     "text": [
      "Train missing value: \n",
      "CryoSleep       217\n",
      "ShoppingMall    208\n",
      "VIP             203\n",
      "HomePlanet      201\n",
      "Cabin           199\n",
      "VRDeck          188\n",
      "FoodCourt       183\n",
      "Spa             183\n",
      "Destination     182\n",
      "RoomService     181\n",
      "Age             179\n",
      "Transported       0\n",
      "dtype: int64\n",
      "Test missing value: \n",
      "FoodCourt       106\n",
      "Spa             101\n",
      "Cabin           100\n",
      "ShoppingMall     98\n",
      "CryoSleep        93\n",
      "VIP              93\n",
      "Destination      92\n",
      "Age              91\n",
      "HomePlanet       87\n",
      "RoomService      82\n",
      "VRDeck           80\n",
      "dtype: int64\n"
     ]
    }
   ],
   "source": [
    "# 检查缺失值，并对缺失值的数量进行排序，缺失值最多的列排在最前面\n",
    "missing_value = train_data.isnull().sum().sort_values(ascending=False)\n",
    "print(\"Train missing value: \\n{}\".format(missing_value))\n",
    "\n",
    "test_missing = test_data.isnull().sum().sort_values(ascending=False)\n",
    "print(\"Test missing value: \\n{}\".format(test_missing))"
   ]
  },
  {
   "cell_type": "code",
   "execution_count": 10,
   "id": "a17bb8af",
   "metadata": {
    "execution": {
     "iopub.execute_input": "2023-12-02T17:44:43.986206Z",
     "iopub.status.busy": "2023-12-02T17:44:43.985567Z",
     "iopub.status.idle": "2023-12-02T17:44:44.030777Z",
     "shell.execute_reply": "2023-12-02T17:44:44.029427Z"
    },
    "papermill": {
     "duration": 0.05714,
     "end_time": "2023-12-02T17:44:44.032824",
     "exception": false,
     "start_time": "2023-12-02T17:44:43.975684",
     "status": "completed"
    },
    "tags": []
   },
   "outputs": [
    {
     "name": "stdout",
     "output_type": "stream",
     "text": [
      "HomePlanet            Earth\n",
      "CryoSleep             False\n",
      "Cabin               G/734/S\n",
      "Destination     TRAPPIST-1e\n",
      "Age                    24.0\n",
      "VIP                   False\n",
      "RoomService             0.0\n",
      "FoodCourt               0.0\n",
      "ShoppingMall            0.0\n",
      "Spa                     0.0\n",
      "VRDeck                  0.0\n",
      "Transported            True\n",
      "Name: 0, dtype: object\n",
      "HomePlanet            Earth\n",
      "CryoSleep             False\n",
      "Cabin               G/160/P\n",
      "Destination     TRAPPIST-1e\n",
      "Age                    18.0\n",
      "VIP                   False\n",
      "RoomService             0.0\n",
      "FoodCourt               0.0\n",
      "ShoppingMall            0.0\n",
      "Spa                     0.0\n",
      "VRDeck                  0.0\n",
      "Name: 0, dtype: object\n"
     ]
    }
   ],
   "source": [
    "# 处理这些缺失值\n",
    "mode_train = train_data.mode().iloc[0]\n",
    "train_data = train_data.fillna(mode_train)\n",
    "print(mode_train)\n",
    "mode_test = test_data.mode().iloc[0]\n",
    "test_data = test_data.fillna(mode_test)\n",
    "print(mode_test)"
   ]
  },
  {
   "cell_type": "code",
   "execution_count": 11,
   "id": "869368a7",
   "metadata": {
    "execution": {
     "iopub.execute_input": "2023-12-02T17:44:44.054282Z",
     "iopub.status.busy": "2023-12-02T17:44:44.053988Z",
     "iopub.status.idle": "2023-12-02T17:44:44.068261Z",
     "shell.execute_reply": "2023-12-02T17:44:44.067217Z"
    },
    "papermill": {
     "duration": 0.027738,
     "end_time": "2023-12-02T17:44:44.070245",
     "exception": false,
     "start_time": "2023-12-02T17:44:44.042507",
     "status": "completed"
    },
    "tags": []
   },
   "outputs": [
    {
     "name": "stdout",
     "output_type": "stream",
     "text": [
      "Train missing value: \n",
      "HomePlanet      0\n",
      "CryoSleep       0\n",
      "Cabin           0\n",
      "Destination     0\n",
      "Age             0\n",
      "VIP             0\n",
      "RoomService     0\n",
      "FoodCourt       0\n",
      "ShoppingMall    0\n",
      "Spa             0\n",
      "VRDeck          0\n",
      "Transported     0\n",
      "dtype: int64\n",
      "Test missing value: \n",
      "HomePlanet      0\n",
      "CryoSleep       0\n",
      "Cabin           0\n",
      "Destination     0\n",
      "Age             0\n",
      "VIP             0\n",
      "RoomService     0\n",
      "FoodCourt       0\n",
      "ShoppingMall    0\n",
      "Spa             0\n",
      "VRDeck          0\n",
      "dtype: int64\n"
     ]
    }
   ],
   "source": [
    "# 检查缺失值，并对缺失值的数量进行排序，缺失值最多的列排在最前面\n",
    "missing_value = train_data.isnull().sum().sort_values(ascending=False)\n",
    "print(\"Train missing value: \\n{}\".format(missing_value))\n",
    "\n",
    "test_missing = test_data.isnull().sum().sort_values(ascending=False)\n",
    "print(\"Test missing value: \\n{}\".format(test_missing))"
   ]
  },
  {
   "cell_type": "code",
   "execution_count": 12,
   "id": "ba75ba4e",
   "metadata": {
    "execution": {
     "iopub.execute_input": "2023-12-02T17:44:44.090699Z",
     "iopub.status.busy": "2023-12-02T17:44:44.090115Z",
     "iopub.status.idle": "2023-12-02T17:44:44.096075Z",
     "shell.execute_reply": "2023-12-02T17:44:44.095091Z"
    },
    "papermill": {
     "duration": 0.018251,
     "end_time": "2023-12-02T17:44:44.098127",
     "exception": false,
     "start_time": "2023-12-02T17:44:44.079876",
     "status": "completed"
    },
    "tags": []
   },
   "outputs": [
    {
     "name": "stdout",
     "output_type": "stream",
     "text": [
      "train_data.shape: (8693, 12)\n",
      "test_data.shape: (4277, 11)\n",
      "Index(['HomePlanet', 'CryoSleep', 'Cabin', 'Destination', 'Age', 'VIP',\n",
      "       'RoomService', 'FoodCourt', 'ShoppingMall', 'Spa', 'VRDeck',\n",
      "       'Transported'],\n",
      "      dtype='object')\n",
      "Index(['HomePlanet', 'CryoSleep', 'Cabin', 'Destination', 'Age', 'VIP',\n",
      "       'RoomService', 'FoodCourt', 'ShoppingMall', 'Spa', 'VRDeck'],\n",
      "      dtype='object')\n",
      "{'Transported'}\n"
     ]
    }
   ],
   "source": [
    "# 数据预处理到此结束\n",
    "print(f\"train_data.shape: {train_data.shape}\")\n",
    "print(f\"test_data.shape: {test_data.shape}\")\n",
    "print(train_data.columns, end='\\n')\n",
    "print(test_data.columns, end='\\n')\n",
    "print(set(train_data.columns) - set(test_data.columns))"
   ]
  },
  {
   "cell_type": "code",
   "execution_count": 13,
   "id": "c65c8c40",
   "metadata": {
    "execution": {
     "iopub.execute_input": "2023-12-02T17:44:44.118141Z",
     "iopub.status.busy": "2023-12-02T17:44:44.117862Z",
     "iopub.status.idle": "2023-12-02T17:44:44.190321Z",
     "shell.execute_reply": "2023-12-02T17:44:44.189309Z"
    },
    "papermill": {
     "duration": 0.084978,
     "end_time": "2023-12-02T17:44:44.192518",
     "exception": false,
     "start_time": "2023-12-02T17:44:44.107540",
     "status": "completed"
    },
    "tags": []
   },
   "outputs": [
    {
     "name": "stdout",
     "output_type": "stream",
     "text": [
      "True\n"
     ]
    }
   ],
   "source": [
    "print(torch.cuda.is_available())"
   ]
  },
  {
   "cell_type": "code",
   "execution_count": 14,
   "id": "27b04363",
   "metadata": {
    "execution": {
     "iopub.execute_input": "2023-12-02T17:44:44.212485Z",
     "iopub.status.busy": "2023-12-02T17:44:44.212168Z",
     "iopub.status.idle": "2023-12-02T17:44:44.265253Z",
     "shell.execute_reply": "2023-12-02T17:44:44.264246Z"
    },
    "papermill": {
     "duration": 0.065158,
     "end_time": "2023-12-02T17:44:44.267229",
     "exception": false,
     "start_time": "2023-12-02T17:44:44.202071",
     "status": "completed"
    },
    "tags": []
   },
   "outputs": [
    {
     "name": "stdout",
     "output_type": "stream",
     "text": [
      "train_labels.shape: torch.Size([8693, 1])\n",
      "tensor([[False],\n",
      "        [ True],\n",
      "        [False],\n",
      "        [False],\n",
      "        [ True]])\n"
     ]
    }
   ],
   "source": [
    "train_labels = torch.tensor(train_data.Transported.values.reshape(-1, 1), dtype=torch.bool)\n",
    "print(\"train_labels.shape: {}\".format(train_labels.shape))\n",
    "print(train_labels[:5])"
   ]
  },
  {
   "cell_type": "code",
   "execution_count": 15,
   "id": "e2f75f0c",
   "metadata": {
    "execution": {
     "iopub.execute_input": "2023-12-02T17:44:44.287401Z",
     "iopub.status.busy": "2023-12-02T17:44:44.287097Z",
     "iopub.status.idle": "2023-12-02T17:44:45.762667Z",
     "shell.execute_reply": "2023-12-02T17:44:45.761703Z"
    },
    "papermill": {
     "duration": 1.487984,
     "end_time": "2023-12-02T17:44:45.764810",
     "exception": false,
     "start_time": "2023-12-02T17:44:44.276826",
     "status": "completed"
    },
    "tags": []
   },
   "outputs": [
    {
     "name": "stdout",
     "output_type": "stream",
     "text": [
      "all_features.shape: (12970, 9839)\n",
      "train_features.shape: torch.Size([8693, 9839])\n",
      "test_features.shape: torch.Size([4277, 9839])\n",
      "tensor([[ 0., 39.,  0.,  ...,  0.,  0.,  1.],\n",
      "        [ 0., 24.,  0.,  ...,  0.,  0.,  1.],\n",
      "        [ 0., 58.,  1.,  ...,  0.,  0.,  1.],\n",
      "        ...,\n",
      "        [ 0., 26.,  0.,  ...,  0.,  0.,  1.],\n",
      "        [ 0., 32.,  0.,  ...,  1.,  0.,  0.],\n",
      "        [ 0., 44.,  0.,  ...,  0.,  0.,  1.]])\n"
     ]
    }
   ],
   "source": [
    "# 统一转独热编码然后再转tensor，分开转会出问题\n",
    "all_features = pd.concat((train_data.drop(['Transported'], axis=1),test_data))\n",
    "all_features = pd.get_dummies(all_features)\n",
    "print(\"all_features.shape: {}\".format(all_features.shape))\n",
    "n_train = train_data.shape[0]\n",
    "all_features = all_features.astype(float)\n",
    "train_features = torch.tensor(all_features[:n_train].values, dtype=torch.float32)\n",
    "test_features = torch.tensor(all_features[n_train:].values, dtype=torch.float32)\n",
    "print(\"train_features.shape: {}\".format(train_features.shape))\n",
    "print(\"test_features.shape: {}\".format(test_features.shape))\n",
    "print(train_features)"
   ]
  },
  {
   "cell_type": "code",
   "execution_count": 16,
   "id": "44da2284",
   "metadata": {
    "execution": {
     "iopub.execute_input": "2023-12-02T17:44:45.785788Z",
     "iopub.status.busy": "2023-12-02T17:44:45.785477Z",
     "iopub.status.idle": "2023-12-02T17:44:45.887785Z",
     "shell.execute_reply": "2023-12-02T17:44:45.886867Z"
    },
    "papermill": {
     "duration": 0.116005,
     "end_time": "2023-12-02T17:44:45.890680",
     "exception": false,
     "start_time": "2023-12-02T17:44:45.774675",
     "status": "completed"
    },
    "tags": []
   },
   "outputs": [
    {
     "name": "stdout",
     "output_type": "stream",
     "text": [
      "(tensor([[ 0., 39.,  0.,  ...,  0.,  0.,  1.],\n",
      "        [ 0., 24.,  0.,  ...,  0.,  0.,  1.],\n",
      "        [ 0., 58.,  1.,  ...,  0.,  0.,  1.],\n",
      "        [ 0., 33.,  0.,  ...,  0.,  0.,  1.],\n",
      "        [ 0., 16.,  0.,  ...,  0.,  0.,  1.]]), tensor([[False],\n",
      "        [ True],\n",
      "        [False],\n",
      "        [False],\n",
      "        [ True]]))\n",
      "0 tensor([[ 1., 20.,  0.,  ...,  0.,  1.,  0.],\n",
      "        [ 1., 35.,  0.,  ...,  0.,  0.,  1.],\n",
      "        [ 1., 46.,  0.,  ...,  0.,  0.,  1.],\n",
      "        ...,\n",
      "        [ 0., 54.,  0.,  ...,  0.,  0.,  1.],\n",
      "        [ 1., 17.,  0.,  ...,  0.,  1.,  0.],\n",
      "        [ 0., 39.,  0.,  ...,  0.,  0.,  1.]]) tensor([[ True],\n",
      "        [ True],\n",
      "        [False],\n",
      "        [False],\n",
      "        [ True],\n",
      "        [False],\n",
      "        [ True],\n",
      "        [ True],\n",
      "        [ True],\n",
      "        [ True],\n",
      "        [False],\n",
      "        [False],\n",
      "        [False],\n",
      "        [ True],\n",
      "        [ True],\n",
      "        [False],\n",
      "        [ True],\n",
      "        [ True],\n",
      "        [False],\n",
      "        [False],\n",
      "        [False],\n",
      "        [False],\n",
      "        [False],\n",
      "        [ True],\n",
      "        [ True],\n",
      "        [False],\n",
      "        [False],\n",
      "        [False],\n",
      "        [False],\n",
      "        [False],\n",
      "        [False],\n",
      "        [ True],\n",
      "        [ True],\n",
      "        [ True],\n",
      "        [False],\n",
      "        [ True],\n",
      "        [ True],\n",
      "        [False],\n",
      "        [False],\n",
      "        [ True],\n",
      "        [False],\n",
      "        [ True],\n",
      "        [ True],\n",
      "        [False],\n",
      "        [ True],\n",
      "        [ True],\n",
      "        [ True],\n",
      "        [False],\n",
      "        [False],\n",
      "        [ True],\n",
      "        [False],\n",
      "        [ True],\n",
      "        [ True],\n",
      "        [ True],\n",
      "        [False],\n",
      "        [ True],\n",
      "        [ True],\n",
      "        [False],\n",
      "        [False],\n",
      "        [ True],\n",
      "        [False],\n",
      "        [False],\n",
      "        [False],\n",
      "        [ True],\n",
      "        [ True],\n",
      "        [False],\n",
      "        [False],\n",
      "        [ True],\n",
      "        [False],\n",
      "        [ True],\n",
      "        [False],\n",
      "        [ True],\n",
      "        [False],\n",
      "        [False],\n",
      "        [False],\n",
      "        [ True],\n",
      "        [ True],\n",
      "        [ True],\n",
      "        [False],\n",
      "        [False],\n",
      "        [False],\n",
      "        [ True],\n",
      "        [ True],\n",
      "        [ True],\n",
      "        [False],\n",
      "        [ True],\n",
      "        [False],\n",
      "        [ True],\n",
      "        [False],\n",
      "        [ True],\n",
      "        [ True],\n",
      "        [ True],\n",
      "        [False],\n",
      "        [ True],\n",
      "        [ True],\n",
      "        [ True],\n",
      "        [False],\n",
      "        [ True],\n",
      "        [ True],\n",
      "        [False]])\n",
      "1 tensor([[ 0., 56.,  1.,  ...,  0.,  0.,  1.],\n",
      "        [ 0., 15.,  0.,  ...,  0.,  0.,  1.],\n",
      "        [ 1., 46.,  0.,  ...,  0.,  0.,  1.],\n",
      "        ...,\n",
      "        [ 0., 26.,  0.,  ...,  0.,  1.,  0.],\n",
      "        [ 1., 39.,  0.,  ...,  0.,  0.,  1.],\n",
      "        [ 0., 21.,  0.,  ...,  0.,  0.,  1.]]) tensor([[False],\n",
      "        [False],\n",
      "        [ True],\n",
      "        [False],\n",
      "        [False],\n",
      "        [ True],\n",
      "        [ True],\n",
      "        [False],\n",
      "        [ True],\n",
      "        [False],\n",
      "        [ True],\n",
      "        [False],\n",
      "        [False],\n",
      "        [ True],\n",
      "        [ True],\n",
      "        [False],\n",
      "        [ True],\n",
      "        [False],\n",
      "        [False],\n",
      "        [ True],\n",
      "        [False],\n",
      "        [ True],\n",
      "        [ True],\n",
      "        [ True],\n",
      "        [False],\n",
      "        [ True],\n",
      "        [ True],\n",
      "        [False],\n",
      "        [False],\n",
      "        [ True],\n",
      "        [ True],\n",
      "        [False],\n",
      "        [False],\n",
      "        [False],\n",
      "        [False],\n",
      "        [False],\n",
      "        [ True],\n",
      "        [ True],\n",
      "        [False],\n",
      "        [False],\n",
      "        [ True],\n",
      "        [False],\n",
      "        [ True],\n",
      "        [ True],\n",
      "        [False],\n",
      "        [ True],\n",
      "        [ True],\n",
      "        [ True],\n",
      "        [ True],\n",
      "        [ True],\n",
      "        [ True],\n",
      "        [False],\n",
      "        [False],\n",
      "        [ True],\n",
      "        [ True],\n",
      "        [ True],\n",
      "        [ True],\n",
      "        [ True],\n",
      "        [ True],\n",
      "        [False],\n",
      "        [False],\n",
      "        [False],\n",
      "        [False],\n",
      "        [ True],\n",
      "        [ True],\n",
      "        [ True],\n",
      "        [ True],\n",
      "        [ True],\n",
      "        [ True],\n",
      "        [False],\n",
      "        [ True],\n",
      "        [False],\n",
      "        [False],\n",
      "        [ True],\n",
      "        [False],\n",
      "        [False],\n",
      "        [False],\n",
      "        [False],\n",
      "        [False],\n",
      "        [False],\n",
      "        [ True],\n",
      "        [False],\n",
      "        [False],\n",
      "        [False],\n",
      "        [ True],\n",
      "        [ True],\n",
      "        [False],\n",
      "        [False],\n",
      "        [False],\n",
      "        [False],\n",
      "        [ True],\n",
      "        [ True],\n",
      "        [False],\n",
      "        [ True],\n",
      "        [False],\n",
      "        [ True],\n",
      "        [False],\n",
      "        [False],\n",
      "        [ True],\n",
      "        [ True]])\n",
      "2 tensor([[ 0., 55.,  0.,  ...,  0.,  1.,  0.],\n",
      "        [ 0., 34.,  0.,  ...,  0.,  0.,  1.],\n",
      "        [ 0., 41.,  0.,  ...,  0.,  0.,  1.],\n",
      "        ...,\n",
      "        [ 0., 31.,  0.,  ...,  1.,  0.,  0.],\n",
      "        [ 1., 34.,  0.,  ...,  0.,  0.,  1.],\n",
      "        [ 1., 20.,  0.,  ...,  0.,  0.,  1.]]) tensor([[ True],\n",
      "        [False],\n",
      "        [ True],\n",
      "        [False],\n",
      "        [False],\n",
      "        [ True],\n",
      "        [False],\n",
      "        [ True],\n",
      "        [False],\n",
      "        [False],\n",
      "        [ True],\n",
      "        [ True],\n",
      "        [False],\n",
      "        [ True],\n",
      "        [False],\n",
      "        [ True],\n",
      "        [False],\n",
      "        [ True],\n",
      "        [ True],\n",
      "        [ True],\n",
      "        [ True],\n",
      "        [False],\n",
      "        [False],\n",
      "        [False],\n",
      "        [ True],\n",
      "        [False],\n",
      "        [ True],\n",
      "        [False],\n",
      "        [False],\n",
      "        [False],\n",
      "        [False],\n",
      "        [ True],\n",
      "        [ True],\n",
      "        [ True],\n",
      "        [ True],\n",
      "        [False],\n",
      "        [False],\n",
      "        [False],\n",
      "        [ True],\n",
      "        [False],\n",
      "        [ True],\n",
      "        [ True],\n",
      "        [False],\n",
      "        [False],\n",
      "        [ True],\n",
      "        [ True],\n",
      "        [False],\n",
      "        [ True],\n",
      "        [ True],\n",
      "        [ True],\n",
      "        [False],\n",
      "        [ True],\n",
      "        [ True],\n",
      "        [ True],\n",
      "        [ True],\n",
      "        [ True],\n",
      "        [ True],\n",
      "        [False],\n",
      "        [ True],\n",
      "        [ True],\n",
      "        [ True],\n",
      "        [ True],\n",
      "        [False],\n",
      "        [False],\n",
      "        [ True],\n",
      "        [ True],\n",
      "        [False],\n",
      "        [False],\n",
      "        [ True],\n",
      "        [ True],\n",
      "        [ True],\n",
      "        [ True],\n",
      "        [False],\n",
      "        [ True],\n",
      "        [ True],\n",
      "        [ True],\n",
      "        [ True],\n",
      "        [ True],\n",
      "        [ True],\n",
      "        [False],\n",
      "        [False],\n",
      "        [ True],\n",
      "        [ True],\n",
      "        [False],\n",
      "        [ True],\n",
      "        [ True],\n",
      "        [False],\n",
      "        [ True],\n",
      "        [False],\n",
      "        [False],\n",
      "        [False],\n",
      "        [False],\n",
      "        [False],\n",
      "        [False],\n",
      "        [False],\n",
      "        [ True],\n",
      "        [False],\n",
      "        [False],\n",
      "        [ True],\n",
      "        [False]])\n"
     ]
    }
   ],
   "source": [
    "batch_size = 100\n",
    "# 把训练集和结果集一一匹配成为一个元组\n",
    "dataset = torch.utils.data.TensorDataset(train_features, train_labels)\n",
    "print(dataset[:5])\n",
    "train_loader = torch.utils.data.DataLoader(dataset, batch_size=batch_size, shuffle=True)\n",
    "for i, (data, labels) in enumerate(train_loader):\n",
    "    if i == 3:\n",
    "        break;\n",
    "    print(i, data, labels)"
   ]
  },
  {
   "cell_type": "code",
   "execution_count": 17,
   "id": "896b477f",
   "metadata": {
    "execution": {
     "iopub.execute_input": "2023-12-02T17:44:45.912515Z",
     "iopub.status.busy": "2023-12-02T17:44:45.912193Z",
     "iopub.status.idle": "2023-12-02T17:44:45.918847Z",
     "shell.execute_reply": "2023-12-02T17:44:45.917860Z"
    },
    "papermill": {
     "duration": 0.019225,
     "end_time": "2023-12-02T17:44:45.920786",
     "exception": false,
     "start_time": "2023-12-02T17:44:45.901561",
     "status": "completed"
    },
    "tags": []
   },
   "outputs": [],
   "source": [
    "class LogisticRegressionModel(nn.Module):\n",
    "    def __init__(self, n_features):\n",
    "        super(LogisticRegressionModel, self).__init__()\n",
    "        self.linear1 = nn.Linear(n_features, 200)\n",
    "        self.relu1 = nn.ReLU()\n",
    "        self.linear2 = nn.Linear(200, 100)\n",
    "        self.relu2 = nn.ReLU()\n",
    "        self.linear3 = nn.Linear(100, 1)\n",
    "    def forward(self, x):\n",
    "        x = self.linear1(x)\n",
    "        x = self.relu1(x)\n",
    "        x = self.linear2(x)\n",
    "        x = self.relu2(x)\n",
    "        x = self.linear3(x)\n",
    "        x = torch.sigmoid(x)\n",
    "        return x"
   ]
  },
  {
   "cell_type": "code",
   "execution_count": 18,
   "id": "fc9e4230",
   "metadata": {
    "execution": {
     "iopub.execute_input": "2023-12-02T17:44:45.941800Z",
     "iopub.status.busy": "2023-12-02T17:44:45.941550Z",
     "iopub.status.idle": "2023-12-02T17:44:48.855337Z",
     "shell.execute_reply": "2023-12-02T17:44:48.854427Z"
    },
    "papermill": {
     "duration": 2.926744,
     "end_time": "2023-12-02T17:44:48.857492",
     "exception": false,
     "start_time": "2023-12-02T17:44:45.930748",
     "status": "completed"
    },
    "tags": []
   },
   "outputs": [
    {
     "name": "stdout",
     "output_type": "stream",
     "text": [
      "LogisticRegressionModel(\n",
      "  (linear1): Linear(in_features=9839, out_features=200, bias=True)\n",
      "  (relu1): ReLU()\n",
      "  (linear2): Linear(in_features=200, out_features=100, bias=True)\n",
      "  (relu2): ReLU()\n",
      "  (linear3): Linear(in_features=100, out_features=1, bias=True)\n",
      ")\n"
     ]
    }
   ],
   "source": [
    "# 输入应该是特征的个数 - 也就是列数\n",
    "n_features = train_features.shape[1]\n",
    "model = LogisticRegressionModel(n_features).to(\"cuda\")\n",
    "print(model)"
   ]
  },
  {
   "cell_type": "code",
   "execution_count": 19,
   "id": "cd33bac9",
   "metadata": {
    "execution": {
     "iopub.execute_input": "2023-12-02T17:44:48.880084Z",
     "iopub.status.busy": "2023-12-02T17:44:48.879788Z",
     "iopub.status.idle": "2023-12-02T17:44:48.884849Z",
     "shell.execute_reply": "2023-12-02T17:44:48.884078Z"
    },
    "papermill": {
     "duration": 0.018073,
     "end_time": "2023-12-02T17:44:48.886763",
     "exception": false,
     "start_time": "2023-12-02T17:44:48.868690",
     "status": "completed"
    },
    "tags": []
   },
   "outputs": [],
   "source": [
    "loss = nn.MSELoss()\n",
    "lr = 1e-3\n",
    "optimizer = torch.optim.Adam(model.parameters(), lr=lr)\n",
    "# 学习率衰减，使用StepLR衰减\n",
    "scheduler = optim.lr_scheduler.StepLR(optimizer, step_size=30, gamma=0.1)"
   ]
  },
  {
   "cell_type": "code",
   "execution_count": 20,
   "id": "63b27d4e",
   "metadata": {
    "execution": {
     "iopub.execute_input": "2023-12-02T17:44:48.908394Z",
     "iopub.status.busy": "2023-12-02T17:44:48.907857Z",
     "iopub.status.idle": "2023-12-02T17:47:48.420819Z",
     "shell.execute_reply": "2023-12-02T17:47:48.419846Z"
    },
    "papermill": {
     "duration": 179.537945,
     "end_time": "2023-12-02T17:47:48.434696",
     "exception": false,
     "start_time": "2023-12-02T17:44:48.896751",
     "status": "completed"
    },
    "tags": []
   },
   "outputs": [
    {
     "name": "stderr",
     "output_type": "stream",
     "text": [
      "/opt/conda/lib/python3.10/site-packages/torch/optim/lr_scheduler.py:139: UserWarning: Detected call of `lr_scheduler.step()` before `optimizer.step()`. In PyTorch 1.1.0 and later, you should call them in the opposite order: `optimizer.step()` before `lr_scheduler.step()`.  Failure to do this will result in PyTorch skipping the first value of the learning rate schedule. See more details at https://pytorch.org/docs/stable/optim.html#how-to-adjust-learning-rate\n",
      "  warnings.warn(\"Detected call of `lr_scheduler.step()` before `optimizer.step()`. \"\n"
     ]
    },
    {
     "name": "stdout",
     "output_type": "stream",
     "text": [
      "epoch: 0, loss_sum: 14.989840753376484\n",
      "epoch: 10, loss_sum: 8.182171009480953\n",
      "epoch: 20, loss_sum: 7.840380776673555\n",
      "epoch: 30, loss_sum: 7.357344515621662\n",
      "epoch: 40, loss_sum: 7.258704036474228\n",
      "epoch: 50, loss_sum: 7.151556082069874\n",
      "epoch: 60, loss_sum: 6.975591741502285\n",
      "epoch: 70, loss_sum: 6.95162894949317\n",
      "epoch: 80, loss_sum: 6.930085692554712\n",
      "epoch: 90, loss_sum: 6.9022392854094505\n"
     ]
    },
    {
     "data": {
      "image/png": "[encoded data removed]",
      "text/plain": [
       "<Figure size 640x480 with 1 Axes>"
      ]
     },
     "metadata": {},
     "output_type": "display_data"
    }
   ],
   "source": [
    "epochs = 100\n",
    "def train(train_loader):\n",
    "    train_loss = []\n",
    "    for epoch in range(epochs):\n",
    "        # 每个epoch开始时进行学习率衰减\n",
    "        scheduler.step()\n",
    "        loss_sum = 0\n",
    "        for train_batch, labels in train_loader:\n",
    "            train_batch, labels = train_batch.to(\"cuda\"), labels.to(\"cuda\").float()\n",
    "            \n",
    "            # 计算训练值和真实值的差距得到损失\n",
    "            l = loss(model(train_batch), labels)\n",
    "            \n",
    "            # 清除pytorch中的累积梯度\n",
    "            optimizer.zero_grad()\n",
    "            \n",
    "            # 反向传播\n",
    "            l.backward()\n",
    "            \n",
    "            # 更新参数\n",
    "            optimizer.step()\n",
    "            \n",
    "            # 累加损失\n",
    "            loss_sum += l.item()\n",
    "        if(epoch % 10 == 0):\n",
    "            print(\"epoch: {}, loss_sum: {}\".format(epoch, loss_sum))\n",
    "        train_loss.append(loss_sum)\n",
    "        \n",
    "    plt.plot(range(epochs), train_loss)\n",
    "    plt.show()\n",
    "train(train_loader)"
   ]
  },
  {
   "cell_type": "code",
   "execution_count": 21,
   "id": "559f8442",
   "metadata": {
    "execution": {
     "iopub.execute_input": "2023-12-02T17:47:48.458588Z",
     "iopub.status.busy": "2023-12-02T17:47:48.458280Z",
     "iopub.status.idle": "2023-12-02T17:47:48.509941Z",
     "shell.execute_reply": "2023-12-02T17:47:48.508736Z"
    },
    "papermill": {
     "duration": 0.065933,
     "end_time": "2023-12-02T17:47:48.512080",
     "exception": false,
     "start_time": "2023-12-02T17:47:48.446147",
     "status": "completed"
    },
    "tags": []
   },
   "outputs": [
    {
     "name": "stdout",
     "output_type": "stream",
     "text": [
      "[[False]\n",
      " [False]\n",
      " [ True]\n",
      " ...\n",
      " [ True]\n",
      " [ True]\n",
      " [ True]]\n",
      "     PassengerId  Transported\n",
      "0        0013_01        False\n",
      "1        0018_01        False\n",
      "2        0019_01         True\n",
      "3        0021_01         True\n",
      "4        0023_01         True\n",
      "...          ...          ...\n",
      "4272     9266_02         True\n",
      "4273     9269_01        False\n",
      "4274     9271_01         True\n",
      "4275     9273_01         True\n",
      "4276     9277_01         True\n",
      "\n",
      "[4277 rows x 2 columns]\n"
     ]
    }
   ],
   "source": [
    "def test(test_feature):\n",
    "    test_features = test_feature.to(\"cuda\")\n",
    "    with torch.no_grad():\n",
    "        preds = model(test_features)\n",
    "    preds_bool = preds >= 0.5\n",
    "    return preds_bool.cpu().numpy()\n",
    "pred_label = test(test_features)\n",
    "print(pred_label)\n",
    "\n",
    "PassengerId = test_id\n",
    "Transported = pred_label.squeeze()\n",
    "submission = pd.DataFrame({\n",
    "    \"PassengerId\": PassengerId,\n",
    "    \"Transported\": Transported\n",
    "})\n",
    "print(submission)"
   ]
  },
  {
   "cell_type": "code",
   "execution_count": 22,
   "id": "a34465ba",
   "metadata": {
    "execution": {
     "iopub.execute_input": "2023-12-02T17:47:48.536388Z",
     "iopub.status.busy": "2023-12-02T17:47:48.535864Z",
     "iopub.status.idle": "2023-12-02T17:47:48.550518Z",
     "shell.execute_reply": "2023-12-02T17:47:48.549824Z"
    },
    "papermill": {
     "duration": 0.028893,
     "end_time": "2023-12-02T17:47:48.552545",
     "exception": false,
     "start_time": "2023-12-02T17:47:48.523652",
     "status": "completed"
    },
    "tags": []
   },
   "outputs": [],
   "source": [
    "submission.to_csv(\"submission.csv\", index=False)"
   ]
  },
  {
   "cell_type": "code",
   "execution_count": null,
   "id": "80d16503",
   "metadata": {
    "papermill": {
     "duration": 0.010786,
     "end_time": "2023-12-02T17:47:48.574508",
     "exception": false,
     "start_time": "2023-12-02T17:47:48.563722",
     "status": "completed"
    },
    "tags": []
   },
   "outputs": [],
   "source": []
  }
 ],
 "metadata": {
  "kaggle": {
   "accelerator": "gpu",
   "dataSources": [
    {
     "databundleVersionId": 3220602,
     "sourceId": 34377,
     "sourceType": "competition"
    }
   ],
   "dockerImageVersionId": 30588,
   "isGpuEnabled": true,
   "isInternetEnabled": true,
   "language": "python",
   "sourceType": "notebook"
  },
  "kernelspec": {
   "display_name": "Python 3",
   "language": "python",
   "name": "python3"
  },
  "language_info": {
   "codemirror_mode": {
    "name": "ipython",
    "version": 3
   },
   "file_extension": ".py",
   "mimetype": "text/x-python",
   "name": "python",
   "nbconvert_exporter": "python",
   "pygments_lexer": "ipython3",
   "version": "3.10.12"
  },
  "papermill": {
   "default_parameters": {},
   "duration": 197.628418,
   "end_time": "2023-12-02T17:47:50.983800",
   "environment_variables": {},
   "exception": null,
   "input_path": "__notebook__.ipynb",
   "output_path": "__notebook__.ipynb",
   "parameters": {},
   "start_time": "2023-12-02T17:44:33.355382",
   "version": "2.4.0"
  }
 },
 "nbformat": 4,
 "nbformat_minor": 5
}
