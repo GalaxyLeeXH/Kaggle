{
 "cells": [
  {
   "cell_type": "code",
   "execution_count": 1,
   "id": "ca95120d",
   "metadata": {
    "_cell_guid": "b1076dfc-b9ad-4769-8c92-a6c4dae69d19",
    "_uuid": "8f2839f25d086af736a60e9eeb907d3b93b6e0e5",
    "execution": {
     "iopub.execute_input": "2023-11-27T06:38:06.064808Z",
     "iopub.status.busy": "2023-11-27T06:38:06.064142Z",
     "iopub.status.idle": "2023-11-27T06:38:06.768578Z",
     "shell.execute_reply": "2023-11-27T06:38:06.767513Z"
    },
    "papermill": {
     "duration": 0.712516,
     "end_time": "2023-11-27T06:38:06.771201",
     "exception": false,
     "start_time": "2023-11-27T06:38:06.058685",
     "status": "completed"
    },
    "tags": []
   },
   "outputs": [
    {
     "name": "stdout",
     "output_type": "stream",
     "text": [
      "/kaggle/input/digit-recognizer/sample_submission.csv\n",
      "/kaggle/input/digit-recognizer/train.csv\n",
      "/kaggle/input/digit-recognizer/test.csv\n"
     ]
    }
   ],
   "source": [
    "# This Python 3 environment comes with many helpful analytics libraries installed\n",
    "# It is defined by the kaggle/python Docker image: https://github.com/kaggle/docker-python\n",
    "# For example, here's several helpful packages to load\n",
    "\n",
    "import numpy as np # linear algebra\n",
    "import pandas as pd # data processing, CSV file I/O (e.g. pd.read_csv)\n",
    "\n",
    "# Input data files are available in the read-only \"../input/\" directory\n",
    "# For example, running this (by clicking run or pressing Shift+Enter) will list all files under the input directory\n",
    "\n",
    "import os\n",
    "for dirname, _, filenames in os.walk('/kaggle/input'):\n",
    "    for filename in filenames:\n",
    "        print(os.path.join(dirname, filename))\n",
    "\n",
    "# You can write up to 20GB to the current directory (/kaggle/working/) that gets preserved as output when you create a version using \"Save & Run All\" \n",
    "# You can also write temporary files to /kaggle/temp/, but they won't be saved outside of the current session"
   ]
  },
  {
   "cell_type": "code",
   "execution_count": 2,
   "id": "80514624",
   "metadata": {
    "execution": {
     "iopub.execute_input": "2023-11-27T06:38:06.781246Z",
     "iopub.status.busy": "2023-11-27T06:38:06.780853Z",
     "iopub.status.idle": "2023-11-27T06:38:11.043145Z",
     "shell.execute_reply": "2023-11-27T06:38:11.042380Z"
    },
    "papermill": {
     "duration": 4.269849,
     "end_time": "2023-11-27T06:38:11.045612",
     "exception": false,
     "start_time": "2023-11-27T06:38:06.775763",
     "status": "completed"
    },
    "tags": []
   },
   "outputs": [
    {
     "name": "stderr",
     "output_type": "stream",
     "text": [
      "/opt/conda/lib/python3.10/site-packages/scipy/__init__.py:146: UserWarning: A NumPy version >=1.16.5 and <1.23.0 is required for this version of SciPy (detected version 1.24.3\n",
      "  warnings.warn(f\"A NumPy version >={np_minversion} and <{np_maxversion}\"\n"
     ]
    }
   ],
   "source": [
    "import torch\n",
    "import torch.nn as nn\n",
    "# from torch.autograd import Variable  - 现在已经自动集成到Tensor中了\n",
    "# 加载数据的包\n",
    "from torch.utils.data import DataLoader\n",
    "import pandas as pd\n",
    "from sklearn.model_selection import train_test_split\n",
    "import matplotlib.pyplot as plt"
   ]
  },
  {
   "cell_type": "code",
   "execution_count": 3,
   "id": "94eea000",
   "metadata": {
    "execution": {
     "iopub.execute_input": "2023-11-27T06:38:11.054891Z",
     "iopub.status.busy": "2023-11-27T06:38:11.054496Z",
     "iopub.status.idle": "2023-11-27T06:38:16.642177Z",
     "shell.execute_reply": "2023-11-27T06:38:16.641279Z"
    },
    "papermill": {
     "duration": 5.594718,
     "end_time": "2023-11-27T06:38:16.644503",
     "exception": false,
     "start_time": "2023-11-27T06:38:11.049785",
     "status": "completed"
    },
    "tags": []
   },
   "outputs": [
    {
     "name": "stdout",
     "output_type": "stream",
     "text": [
      "   label  pixel0  pixel1  pixel2  pixel3  pixel4  pixel5  pixel6  pixel7  \\\n",
      "0      1       0       0       0       0       0       0       0       0   \n",
      "1      0       0       0       0       0       0       0       0       0   \n",
      "2      1       0       0       0       0       0       0       0       0   \n",
      "3      4       0       0       0       0       0       0       0       0   \n",
      "4      0       0       0       0       0       0       0       0       0   \n",
      "\n",
      "   pixel8  ...  pixel774  pixel775  pixel776  pixel777  pixel778  pixel779  \\\n",
      "0       0  ...         0         0         0         0         0         0   \n",
      "1       0  ...         0         0         0         0         0         0   \n",
      "2       0  ...         0         0         0         0         0         0   \n",
      "3       0  ...         0         0         0         0         0         0   \n",
      "4       0  ...         0         0         0         0         0         0   \n",
      "\n",
      "   pixel780  pixel781  pixel782  pixel783  \n",
      "0         0         0         0         0  \n",
      "1         0         0         0         0  \n",
      "2         0         0         0         0  \n",
      "3         0         0         0         0  \n",
      "4         0         0         0         0  \n",
      "\n",
      "[5 rows x 785 columns]\n",
      "   pixel0  pixel1  pixel2  pixel3  pixel4  pixel5  pixel6  pixel7  pixel8  \\\n",
      "0       0       0       0       0       0       0       0       0       0   \n",
      "1       0       0       0       0       0       0       0       0       0   \n",
      "2       0       0       0       0       0       0       0       0       0   \n",
      "3       0       0       0       0       0       0       0       0       0   \n",
      "4       0       0       0       0       0       0       0       0       0   \n",
      "\n",
      "   pixel9  ...  pixel774  pixel775  pixel776  pixel777  pixel778  pixel779  \\\n",
      "0       0  ...         0         0         0         0         0         0   \n",
      "1       0  ...         0         0         0         0         0         0   \n",
      "2       0  ...         0         0         0         0         0         0   \n",
      "3       0  ...         0         0         0         0         0         0   \n",
      "4       0  ...         0         0         0         0         0         0   \n",
      "\n",
      "   pixel780  pixel781  pixel782  pixel783  \n",
      "0         0         0         0         0  \n",
      "1         0         0         0         0  \n",
      "2         0         0         0         0  \n",
      "3         0         0         0         0  \n",
      "4         0         0         0         0  \n",
      "\n",
      "[5 rows x 784 columns]\n"
     ]
    }
   ],
   "source": [
    "train = pd.read_csv(\"/kaggle/input/digit-recognizer/train.csv\")\n",
    "test = pd.read_csv(\"/kaggle/input/digit-recognizer/test.csv\")\n",
    "\n",
    "print(train.head())\n",
    "print(test.head())"
   ]
  },
  {
   "cell_type": "code",
   "execution_count": 4,
   "id": "e2c7b6b3",
   "metadata": {
    "execution": {
     "iopub.execute_input": "2023-11-27T06:38:16.653932Z",
     "iopub.status.busy": "2023-11-27T06:38:16.653662Z",
     "iopub.status.idle": "2023-11-27T06:38:16.851603Z",
     "shell.execute_reply": "2023-11-27T06:38:16.850257Z"
    },
    "papermill": {
     "duration": 0.204906,
     "end_time": "2023-11-27T06:38:16.853613",
     "exception": false,
     "start_time": "2023-11-27T06:38:16.648707",
     "status": "completed"
    },
    "tags": []
   },
   "outputs": [
    {
     "name": "stdout",
     "output_type": "stream",
     "text": [
      "targets_numpy: [1 0 1 ... 7 6 9] \n",
      "\n",
      "\n",
      "train.label: \n",
      " 0        1\n",
      "1        0\n",
      "2        1\n",
      "3        4\n",
      "4        0\n",
      "        ..\n",
      "41995    0\n",
      "41996    1\n",
      "41997    7\n",
      "41998    6\n",
      "41999    9\n",
      "Name: label, Length: 42000, dtype: int64 \n",
      "\n",
      "\n",
      "features_numpy: \n",
      "[[0. 0. 0. ... 0. 0. 0.]\n",
      " [0. 0. 0. ... 0. 0. 0.]\n",
      " [0. 0. 0. ... 0. 0. 0.]\n",
      " ...\n",
      " [0. 0. 0. ... 0. 0. 0.]\n",
      " [0. 0. 0. ... 0. 0. 0.]\n",
      " [0. 0. 0. ... 0. 0. 0.]]\n"
     ]
    }
   ],
   "source": [
    "# split train data into features and labels\n",
    "# test data has no labels\n",
    "# labels\n",
    "targets_numpy = train.label.values\n",
    "print(f\"targets_numpy: {targets_numpy} \\n\\n\")\n",
    "print(f\"train.label: \\n {train.label} \\n\\n\")\n",
    "\n",
    "# features - 所有行，除了label之外的列\n",
    "features_numpy = train.loc[:, train.columns != \"label\"].values.astype(float)/255\n",
    "print(f\"features_numpy: \\n{features_numpy}\")"
   ]
  },
  {
   "cell_type": "code",
   "execution_count": 5,
   "id": "aecf905e",
   "metadata": {
    "execution": {
     "iopub.execute_input": "2023-11-27T06:38:16.864017Z",
     "iopub.status.busy": "2023-11-27T06:38:16.863210Z",
     "iopub.status.idle": "2023-11-27T06:38:16.942994Z",
     "shell.execute_reply": "2023-11-27T06:38:16.942068Z"
    },
    "papermill": {
     "duration": 0.08728,
     "end_time": "2023-11-27T06:38:16.945218",
     "exception": false,
     "start_time": "2023-11-27T06:38:16.857938",
     "status": "completed"
    },
    "tags": []
   },
   "outputs": [
    {
     "name": "stdout",
     "output_type": "stream",
     "text": [
      "labelsTest.shape:  torch.Size([42000])\n",
      "featuresTest.shape:  torch.Size([42000, 784])\n"
     ]
    }
   ],
   "source": [
    "labelsTest = torch.tensor(targets_numpy, dtype=torch.float32)\n",
    "featuresTest = torch.tensor(features_numpy, dtype=torch.float32)\n",
    "print(\"labelsTest.shape: \", labelsTest.shape)\n",
    "print(\"featuresTest.shape: \", featuresTest.shape)"
   ]
  },
  {
   "cell_type": "code",
   "execution_count": 6,
   "id": "f4c88ac3",
   "metadata": {
    "execution": {
     "iopub.execute_input": "2023-11-27T06:38:16.955560Z",
     "iopub.status.busy": "2023-11-27T06:38:16.954838Z",
     "iopub.status.idle": "2023-11-27T06:38:17.143581Z",
     "shell.execute_reply": "2023-11-27T06:38:17.142636Z"
    },
    "papermill": {
     "duration": 0.195889,
     "end_time": "2023-11-27T06:38:17.145536",
     "exception": false,
     "start_time": "2023-11-27T06:38:16.949647",
     "status": "completed"
    },
    "tags": []
   },
   "outputs": [
    {
     "data": {
      "image/png": "[encoded data removed]",
      "text/plain": [
       "<Figure size 640x480 with 1 Axes>"
      ]
     },
     "metadata": {},
     "output_type": "display_data"
    }
   ],
   "source": [
    "batch_size = 100\n",
    "epochs = 200\n",
    "\n",
    "# 先把数据的特征和标签对应组合成元组，然后再在里面取值\n",
    "train_combine = torch.utils.data.TensorDataset(featuresTest, labelsTest)\n",
    "train_loader = torch.utils.data.DataLoader(train_combine, batch_size=batch_size, shuffle=False)\n",
    "\n",
    "# visulaize one of the images in data set\n",
    "plt.imshow(features_numpy[10].reshape(28, 28))\n",
    "# 关闭坐标轴的显示，因为图片不需要坐标轴\n",
    "plt.axis(\"off\")\n",
    "plt.title(str(targets_numpy[10]))\n",
    "plt.show()"
   ]
  },
  {
   "cell_type": "code",
   "execution_count": 7,
   "id": "1222b951",
   "metadata": {
    "execution": {
     "iopub.execute_input": "2023-11-27T06:38:17.155958Z",
     "iopub.status.busy": "2023-11-27T06:38:17.155668Z",
     "iopub.status.idle": "2023-11-27T06:38:17.160911Z",
     "shell.execute_reply": "2023-11-27T06:38:17.160080Z"
    },
    "papermill": {
     "duration": 0.012397,
     "end_time": "2023-11-27T06:38:17.162697",
     "exception": false,
     "start_time": "2023-11-27T06:38:17.150300",
     "status": "completed"
    },
    "tags": []
   },
   "outputs": [],
   "source": [
    "# define the logistic regression model\n",
    "class Logistic(nn.Module):\n",
    "    def __init__(self, input_dim, output_dim):\n",
    "        super(Logistic, self).__init__()\n",
    "        \n",
    "        # Linear part\n",
    "        self.linear = nn.Linear(input_dim, output_dim)\n",
    "        \n",
    "    def forward(self, x):\n",
    "        out = self.linear(x)\n",
    "        return out"
   ]
  },
  {
   "cell_type": "code",
   "execution_count": 8,
   "id": "940276ab",
   "metadata": {
    "execution": {
     "iopub.execute_input": "2023-11-27T06:38:17.172445Z",
     "iopub.status.busy": "2023-11-27T06:38:17.172151Z",
     "iopub.status.idle": "2023-11-27T06:38:20.013629Z",
     "shell.execute_reply": "2023-11-27T06:38:20.012784Z"
    },
    "papermill": {
     "duration": 2.848859,
     "end_time": "2023-11-27T06:38:20.015850",
     "exception": false,
     "start_time": "2023-11-27T06:38:17.166991",
     "status": "completed"
    },
    "tags": []
   },
   "outputs": [],
   "source": [
    "input_dim = 28 * 28\n",
    "output_dim = 10\n",
    "\n",
    "# 实例化模型 - 注意同时把model移动到cuda上\n",
    "model = Logistic(input_dim, output_dim).to(\"cuda\")\n",
    "\n",
    "# loss\n",
    "# 交叉熵损失 - 输入是浮点型FloatTensor，输出是长整形LongTensor\n",
    "loss = nn.CrossEntropyLoss()\n",
    "\n",
    "# SGD\n",
    "lr = 1e-3\n",
    "optimizer = torch.optim.SGD(model.parameters(), lr=lr)"
   ]
  },
  {
   "cell_type": "code",
   "execution_count": 9,
   "id": "52f77784",
   "metadata": {
    "execution": {
     "iopub.execute_input": "2023-11-27T06:38:20.026264Z",
     "iopub.status.busy": "2023-11-27T06:38:20.025970Z",
     "iopub.status.idle": "2023-11-27T06:40:48.163188Z",
     "shell.execute_reply": "2023-11-27T06:40:48.162327Z"
    },
    "papermill": {
     "duration": 148.149671,
     "end_time": "2023-11-27T06:40:48.170201",
     "exception": false,
     "start_time": "2023-11-27T06:38:20.020530",
     "status": "completed"
    },
    "tags": []
   },
   "outputs": [
    {
     "data": {
      "image/png": "[encoded data removed]",
      "text/plain": [
       "<Figure size 640x480 with 1 Axes>"
      ]
     },
     "metadata": {},
     "output_type": "display_data"
    }
   ],
   "source": [
    "train_ls = []\n",
    "for epoch in range(epochs):\n",
    "    loss_sum = 0\n",
    "    for images, labels in train_loader:\n",
    "        images, labels = images.to(\"cuda\"), labels.to(\"cuda\")\n",
    "        labels = labels.long()\n",
    "        l = loss(model(images), labels)\n",
    "        optimizer.zero_grad()\n",
    "        l.backward()\n",
    "        optimizer.step()\n",
    "        loss_sum += l.item()\n",
    "    train_ls.append(loss_sum)\n",
    "plt.plot(range(epochs), train_ls)\n",
    "plt.show()"
   ]
  },
  {
   "cell_type": "code",
   "execution_count": 10,
   "id": "3660aca2",
   "metadata": {
    "execution": {
     "iopub.execute_input": "2023-11-27T06:40:48.180958Z",
     "iopub.status.busy": "2023-11-27T06:40:48.180659Z",
     "iopub.status.idle": "2023-11-27T06:40:48.316675Z",
     "shell.execute_reply": "2023-11-27T06:40:48.315558Z"
    },
    "papermill": {
     "duration": 0.143764,
     "end_time": "2023-11-27T06:40:48.318748",
     "exception": false,
     "start_time": "2023-11-27T06:40:48.174984",
     "status": "completed"
    },
    "tags": []
   },
   "outputs": [
    {
     "name": "stdout",
     "output_type": "stream",
     "text": [
      "preds: tensor([2, 0, 9,  ..., 3, 9, 2], device='cuda:0') \n",
      "\n",
      "       ImageId  Label\n",
      "0            1      2\n",
      "1            2      0\n",
      "2            3      9\n",
      "3            4      9\n",
      "4            5      3\n",
      "...        ...    ...\n",
      "27995    27996      9\n",
      "27996    27997      7\n",
      "27997    27998      3\n",
      "27998    27999      9\n",
      "27999    28000      2\n",
      "\n",
      "[28000 rows x 2 columns]\n"
     ]
    }
   ],
   "source": [
    "import numpy as np\n",
    "def Test(test):\n",
    "    test_tensor = torch.tensor(test.values, dtype=torch.float32)\n",
    "    test_tensor = test_tensor.to(\"cuda\")\n",
    "    with torch.no_grad():\n",
    "        # 返回最大值和最大值的索引，这里_接收的是值，不关心，preds是索引\n",
    "        # 输出就10个数，找出最大的数的索引来，索引就可以当作数本身\n",
    "        _, preds = torch.max(model(test_tensor).data, 1)\n",
    "    print(f\"preds: {preds} \\n\")\n",
    "    return preds.cpu().numpy()\n",
    "Label = Test(test)\n",
    "ImageId = np.arange(1, len(Label)+1)\n",
    "submission = pd.DataFrame({\n",
    "    'ImageId': ImageId,\n",
    "    'Label': Label\n",
    "})\n",
    "print(submission)\n",
    "submission.to_csv('submission.csv', index=False)"
   ]
  },
  {
   "cell_type": "code",
   "execution_count": null,
   "id": "fa6ed005",
   "metadata": {
    "papermill": {
     "duration": 0.004728,
     "end_time": "2023-11-27T06:40:48.328637",
     "exception": false,
     "start_time": "2023-11-27T06:40:48.323909",
     "status": "completed"
    },
    "tags": []
   },
   "outputs": [],
   "source": []
  }
 ],
 "metadata": {
  "kaggle": {
   "accelerator": "gpu",
   "dataSources": [
    {
     "databundleVersionId": 861823,
     "sourceId": 3004,
     "sourceType": "competition"
    }
   ],
   "dockerImageVersionId": 30588,
   "isGpuEnabled": true,
   "isInternetEnabled": true,
   "language": "python",
   "sourceType": "notebook"
  },
  "kernelspec": {
   "display_name": "Python 3",
   "language": "python",
   "name": "python3"
  },
  "language_info": {
   "codemirror_mode": {
    "name": "ipython",
    "version": 3
   },
   "file_extension": ".py",
   "mimetype": "text/x-python",
   "name": "python",
   "nbconvert_exporter": "python",
   "pygments_lexer": "ipython3",
   "version": "3.10.12"
  },
  "papermill": {
   "default_parameters": {},
   "duration": 167.234405,
   "end_time": "2023-11-27T06:40:49.855388",
   "environment_variables": {},
   "exception": null,
   "input_path": "__notebook__.ipynb",
   "output_path": "__notebook__.ipynb",
   "parameters": {},
   "start_time": "2023-11-27T06:38:02.620983",
   "version": "2.4.0"
  }
 },
 "nbformat": 4,
 "nbformat_minor": 5
}
