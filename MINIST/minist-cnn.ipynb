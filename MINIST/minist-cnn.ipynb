{
 "cells": [
  {
   "cell_type": "code",
   "execution_count": 1,
   "id": "677190d0",
   "metadata": {
    "_cell_guid": "b1076dfc-b9ad-4769-8c92-a6c4dae69d19",
    "_uuid": "8f2839f25d086af736a60e9eeb907d3b93b6e0e5",
    "execution": {
     "iopub.execute_input": "2023-11-27T10:30:45.028187Z",
     "iopub.status.busy": "2023-11-27T10:30:45.027780Z",
     "iopub.status.idle": "2023-11-27T10:30:45.767737Z",
     "shell.execute_reply": "2023-11-27T10:30:45.766394Z"
    },
    "papermill": {
     "duration": 0.747571,
     "end_time": "2023-11-27T10:30:45.770195",
     "exception": false,
     "start_time": "2023-11-27T10:30:45.022624",
     "status": "completed"
    },
    "tags": []
   },
   "outputs": [
    {
     "name": "stdout",
     "output_type": "stream",
     "text": [
      "/kaggle/input/digit-recognizer/sample_submission.csv\n",
      "/kaggle/input/digit-recognizer/train.csv\n",
      "/kaggle/input/digit-recognizer/test.csv\n"
     ]
    }
   ],
   "source": [
    "# This Python 3 environment comes with many helpful analytics libraries installed\n",
    "# It is defined by the kaggle/python Docker image: https://github.com/kaggle/docker-python\n",
    "# For example, here's several helpful packages to load\n",
    "\n",
    "import numpy as np # linear algebra\n",
    "import pandas as pd # data processing, CSV file I/O (e.g. pd.read_csv)\n",
    "\n",
    "# Input data files are available in the read-only \"../input/\" directory\n",
    "# For example, running this (by clicking run or pressing Shift+Enter) will list all files under the input directory\n",
    "\n",
    "import os\n",
    "for dirname, _, filenames in os.walk('/kaggle/input'):\n",
    "    for filename in filenames:\n",
    "        print(os.path.join(dirname, filename))\n",
    "\n",
    "# You can write up to 20GB to the current directory (/kaggle/working/) that gets preserved as output when you create a version using \"Save & Run All\" \n",
    "# You can also write temporary files to /kaggle/temp/, but they won't be saved outside of the current session"
   ]
  },
  {
   "cell_type": "code",
   "execution_count": 2,
   "id": "198cb622",
   "metadata": {
    "execution": {
     "iopub.execute_input": "2023-11-27T10:30:45.778513Z",
     "iopub.status.busy": "2023-11-27T10:30:45.777873Z",
     "iopub.status.idle": "2023-11-27T10:30:54.978785Z",
     "shell.execute_reply": "2023-11-27T10:30:54.977744Z"
    },
    "papermill": {
     "duration": 9.207322,
     "end_time": "2023-11-27T10:30:54.981104",
     "exception": false,
     "start_time": "2023-11-27T10:30:45.773782",
     "status": "completed"
    },
    "tags": []
   },
   "outputs": [
    {
     "name": "stdout",
     "output_type": "stream",
     "text": [
      "features_train.shape: (42000, 784) \n",
      "\n",
      "label_train.shape: (42000,) \n",
      "\n",
      "features_test.shape: (28000, 784)\n"
     ]
    }
   ],
   "source": [
    "# 加载数据\n",
    "import pandas as pd\n",
    "import matplotlib.pyplot as plt\n",
    "import torch\n",
    "import torch.nn as nn\n",
    "from torch.utils.data import TensorDataset, DataLoader\n",
    "import torch.nn.functional as F\n",
    "\n",
    "\n",
    "train = pd.read_csv(\"/kaggle/input/digit-recognizer/train.csv\")\n",
    "test = pd.read_csv(\"/kaggle/input/digit-recognizer/test.csv\")\n",
    "\n",
    "# split features and labels\n",
    "# .values会把DataFrame转换成numpy\n",
    "# 每一行都drop掉label这一列\n",
    "features_train = train.drop(\"label\", axis=1).values/255\n",
    "labels_train = train['label'].values\n",
    "\n",
    "features_test = test.values / 255\n",
    "\n",
    "print(f\"features_train.shape: {features_train.shape} \\n\")\n",
    "print(f\"label_train.shape: {labels_train.shape} \\n\")\n",
    "print(f\"features_test.shape: {features_test.shape}\")"
   ]
  },
  {
   "cell_type": "code",
   "execution_count": 3,
   "id": "75941095",
   "metadata": {
    "execution": {
     "iopub.execute_input": "2023-11-27T10:30:54.989338Z",
     "iopub.status.busy": "2023-11-27T10:30:54.989039Z",
     "iopub.status.idle": "2023-11-27T10:30:54.994266Z",
     "shell.execute_reply": "2023-11-27T10:30:54.993336Z"
    },
    "papermill": {
     "duration": 0.011735,
     "end_time": "2023-11-27T10:30:54.996437",
     "exception": false,
     "start_time": "2023-11-27T10:30:54.984702",
     "status": "completed"
    },
    "tags": []
   },
   "outputs": [
    {
     "name": "stdout",
     "output_type": "stream",
     "text": [
      "type of features_train: <class 'numpy.ndarray'>\n",
      "\n",
      "type of labels_train: <class 'numpy.ndarray'>\n",
      "\n",
      "example of labels_train:\n",
      " [1 0 1 4 0]\n"
     ]
    }
   ],
   "source": [
    "print(f\"type of features_train: {type(features_train)}\\n\")\n",
    "print(f\"type of labels_train: {type(labels_train)}\\n\")\n",
    "print(f\"example of labels_train:\\n {labels_train[:5]}\")"
   ]
  },
  {
   "cell_type": "code",
   "execution_count": 4,
   "id": "77d81bc1",
   "metadata": {
    "execution": {
     "iopub.execute_input": "2023-11-27T10:30:55.004191Z",
     "iopub.status.busy": "2023-11-27T10:30:55.003718Z",
     "iopub.status.idle": "2023-11-27T10:30:55.122472Z",
     "shell.execute_reply": "2023-11-27T10:30:55.121489Z"
    },
    "papermill": {
     "duration": 0.125102,
     "end_time": "2023-11-27T10:30:55.124831",
     "exception": false,
     "start_time": "2023-11-27T10:30:54.999729",
     "status": "completed"
    },
    "tags": []
   },
   "outputs": [],
   "source": [
    "# change numpy to tensor\n",
    "\n",
    "# 输入输出通道都只有一个，-1 -1 的计算结果是1\n",
    "# 提前把形状设计好，回头需要用卷积\n",
    "train_features = torch.tensor(features_train, dtype=torch.float32).reshape(-1, 1, 28, 28)\n",
    "train_labels = torch.tensor(labels_train, dtype=torch.long)\n",
    "\n",
    "test_tensor = torch.tensor(features_test, dtype=torch.float32).reshape(-1, 1, 28, 28)\n",
    "\n",
    "# 创建数据集\n",
    "train_dataset = TensorDataset(train_features, train_labels)\n",
    "\n",
    "# 加载数据集\n",
    "train_loader = DataLoader(train_dataset, batch_size=64, shuffle=True)\n",
    "# for images, labels in train_loader:\n",
    "#     print(images, labels)"
   ]
  },
  {
   "cell_type": "code",
   "execution_count": 5,
   "id": "b5c1598e",
   "metadata": {
    "execution": {
     "iopub.execute_input": "2023-11-27T10:30:55.134235Z",
     "iopub.status.busy": "2023-11-27T10:30:55.133689Z",
     "iopub.status.idle": "2023-11-27T10:30:57.986226Z",
     "shell.execute_reply": "2023-11-27T10:30:57.985343Z"
    },
    "papermill": {
     "duration": 2.859913,
     "end_time": "2023-11-27T10:30:57.988863",
     "exception": false,
     "start_time": "2023-11-27T10:30:55.128950",
     "status": "completed"
    },
    "tags": []
   },
   "outputs": [],
   "source": [
    "# create model\n",
    "\n",
    "\n",
    "class CNN(nn.Module):\n",
    "    def __init__(self):\n",
    "        super(CNN, self).__init__()\n",
    "        # 输入通道1 输出通道32\n",
    "        # img size = (size - kernel_size + 2 * padding_size) / stride + 1\n",
    "        # h_size 和 w_size都这么算\n",
    "        self.conv1 = nn.Conv2d(1, 32, kernel_size=3, stride=1, padding=1)\n",
    "        self.conv2 = nn.Conv2d(32, 64, kernel_size=3, stride=1, padding=1)\n",
    "        self.fc1 = nn.Linear(7*7*64, 128)\n",
    "        self.fc2 = nn.Linear(128, 10)\n",
    "        \n",
    "    def forward(self, x):\n",
    "        # 最大池化的步长为2\n",
    "        x = F.relu(F.max_pool2d(self.conv1(x), 2))\n",
    "        x = F.relu(F.max_pool2d(self.conv2(x), 2))\n",
    "        x = x.view(x.size(0), -1) # flatten\n",
    "        x = F.relu(self.fc1(x))\n",
    "        x = self.fc2(x)\n",
    "        return x\n",
    "\n",
    "model = CNN().to(\"cuda\")"
   ]
  },
  {
   "cell_type": "code",
   "execution_count": 6,
   "id": "d88233c2",
   "metadata": {
    "execution": {
     "iopub.execute_input": "2023-11-27T10:30:57.998626Z",
     "iopub.status.busy": "2023-11-27T10:30:57.997854Z",
     "iopub.status.idle": "2023-11-27T10:39:11.648142Z",
     "shell.execute_reply": "2023-11-27T10:39:11.647165Z"
    },
    "papermill": {
     "duration": 493.661211,
     "end_time": "2023-11-27T10:39:11.654147",
     "exception": false,
     "start_time": "2023-11-27T10:30:57.992936",
     "status": "completed"
    },
    "tags": []
   },
   "outputs": [
    {
     "data": {
      "image/png": "[encoded data removed]",
      "text/plain": [
       "<Figure size 640x480 with 1 Axes>"
      ]
     },
     "metadata": {},
     "output_type": "display_data"
    }
   ],
   "source": [
    "\n",
    "\n",
    "optimizer = torch.optim.Adam(model.parameters(), lr=1e-3)\n",
    "loss = nn.CrossEntropyLoss()\n",
    "\n",
    "epochs = 200\n",
    "train_ls = []\n",
    "for epoch in range(epochs):\n",
    "    loss_sum = 0\n",
    "    for images, labels in train_loader:\n",
    "        images, labels = images.to(\"cuda\"), labels.to(\"cuda\")\n",
    "        \n",
    "        # 训练和测试误差\n",
    "        outputs = model(images)\n",
    "        l = loss(outputs, labels)\n",
    "        \n",
    "        # 反向传播和优化\n",
    "        optimizer.zero_grad()\n",
    "        l.backward()\n",
    "        optimizer.step()\n",
    "        \n",
    "        loss_sum += l.item()\n",
    "    train_ls.append(loss_sum)\n",
    "plt.plot(range(epochs), train_ls)\n",
    "plt.show()\n",
    "        \n",
    "        \n",
    "        "
   ]
  },
  {
   "cell_type": "code",
   "execution_count": 7,
   "id": "5ce674a3",
   "metadata": {
    "execution": {
     "iopub.execute_input": "2023-11-27T10:39:11.662870Z",
     "iopub.status.busy": "2023-11-27T10:39:11.662575Z",
     "iopub.status.idle": "2023-11-27T10:39:11.839122Z",
     "shell.execute_reply": "2023-11-27T10:39:11.838101Z"
    },
    "papermill": {
     "duration": 0.183261,
     "end_time": "2023-11-27T10:39:11.841234",
     "exception": false,
     "start_time": "2023-11-27T10:39:11.657973",
     "status": "completed"
    },
    "tags": []
   },
   "outputs": [
    {
     "name": "stdout",
     "output_type": "stream",
     "text": [
      "predicted: tensor([2, 0, 9,  ..., 3, 9, 2], device='cuda:0')\n",
      "       ImageId  Label\n",
      "0            1      2\n",
      "1            2      0\n",
      "2            3      9\n",
      "3            4      0\n",
      "4            5      3\n",
      "...        ...    ...\n",
      "27995    27996      9\n",
      "27996    27997      7\n",
      "27997    27998      3\n",
      "27998    27999      9\n",
      "27999    28000      2\n",
      "\n",
      "[28000 rows x 2 columns]\n"
     ]
    }
   ],
   "source": [
    "# 测试模型\n",
    "def Test(test_tensor):\n",
    "    model.eval()\n",
    "    with torch.no_grad():\n",
    "        test_tensor = test_tensor.to(\"cuda\")\n",
    "        outputs = model(test_tensor)\n",
    "        _, pred = torch.max(outputs.data, 1)\n",
    "        print(f\"predicted: {pred}\")\n",
    "        return pred.cpu().numpy()\n",
    "Label = Test(test_tensor)\n",
    "ImageId = np.arange(1, len(Label)+1)\n",
    "submission = pd.DataFrame({\n",
    "    'ImageId': ImageId,\n",
    "    'Label': Label\n",
    "})\n",
    "print(submission)\n",
    "submission.to_csv('submission.csv', index=False)"
   ]
  },
  {
   "cell_type": "code",
   "execution_count": null,
   "id": "e6d6df34",
   "metadata": {
    "papermill": {
     "duration": 0.003791,
     "end_time": "2023-11-27T10:39:11.849020",
     "exception": false,
     "start_time": "2023-11-27T10:39:11.845229",
     "status": "completed"
    },
    "tags": []
   },
   "outputs": [],
   "source": []
  }
 ],
 "metadata": {
  "kaggle": {
   "accelerator": "gpu",
   "dataSources": [
    {
     "databundleVersionId": 861823,
     "sourceId": 3004,
     "sourceType": "competition"
    }
   ],
   "dockerImageVersionId": 30588,
   "isGpuEnabled": true,
   "isInternetEnabled": true,
   "language": "python",
   "sourceType": "notebook"
  },
  "kernelspec": {
   "display_name": "Python 3",
   "language": "python",
   "name": "python3"
  },
  "language_info": {
   "codemirror_mode": {
    "name": "ipython",
    "version": 3
   },
   "file_extension": ".py",
   "mimetype": "text/x-python",
   "name": "python",
   "nbconvert_exporter": "python",
   "pygments_lexer": "ipython3",
   "version": "3.10.12"
  },
  "papermill": {
   "default_parameters": {},
   "duration": 512.720761,
   "end_time": "2023-11-27T10:39:14.320434",
   "environment_variables": {},
   "exception": null,
   "input_path": "__notebook__.ipynb",
   "output_path": "__notebook__.ipynb",
   "parameters": {},
   "start_time": "2023-11-27T10:30:41.599673",
   "version": "2.4.0"
  }
 },
 "nbformat": 4,
 "nbformat_minor": 5
}
